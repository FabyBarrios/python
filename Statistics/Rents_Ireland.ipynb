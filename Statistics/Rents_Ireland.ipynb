{
 "cells": [
  {
   "attachments": {},
   "cell_type": "markdown",
   "metadata": {},
   "source": [
    "<div style=\"text-align: center\"> <span style=\"font-size:28px;\"><b>Rents in Ireland</b> </span></div>"
   ]
  },
  {
   "cell_type": "code",
   "execution_count": 21,
   "metadata": {},
   "outputs": [],
   "source": [
    "#Importing the libraries\n",
    "import numpy as np\n",
    "import pandas as pd\n",
    "import missingno as msno\n",
    "import seaborn as sns\n",
    "import matplotlib as mpl\n",
    "import matplotlib.pyplot as plt\n",
    "import ptitprince\n",
    "from __future__ import print_function \n",
    "%matplotlib inline "
   ]
  },
  {
   "cell_type": "code",
   "execution_count": 12,
   "metadata": {},
   "outputs": [
    {
     "data": {
      "text/html": [
       "<div>\n",
       "<style scoped>\n",
       "    .dataframe tbody tr th:only-of-type {\n",
       "        vertical-align: middle;\n",
       "    }\n",
       "\n",
       "    .dataframe tbody tr th {\n",
       "        vertical-align: top;\n",
       "    }\n",
       "\n",
       "    .dataframe thead th {\n",
       "        text-align: right;\n",
       "    }\n",
       "</style>\n",
       "<table border=\"1\" class=\"dataframe\">\n",
       "  <thead>\n",
       "    <tr style=\"text-align: right;\">\n",
       "      <th></th>\n",
       "      <th>STATISTIC Label</th>\n",
       "      <th>Quarter</th>\n",
       "      <th>Number of Bedrooms</th>\n",
       "      <th>Property Type</th>\n",
       "      <th>Location</th>\n",
       "      <th>UNIT</th>\n",
       "      <th>VALUE</th>\n",
       "    </tr>\n",
       "  </thead>\n",
       "  <tbody>\n",
       "    <tr>\n",
       "      <th>0</th>\n",
       "      <td>RTB Average Monthly Rent Report</td>\n",
       "      <td>2007Q4</td>\n",
       "      <td>All bedrooms</td>\n",
       "      <td>All property types</td>\n",
       "      <td>Carlow</td>\n",
       "      <td>Euro</td>\n",
       "      <td>805.30</td>\n",
       "    </tr>\n",
       "    <tr>\n",
       "      <th>1</th>\n",
       "      <td>RTB Average Monthly Rent Report</td>\n",
       "      <td>2007Q4</td>\n",
       "      <td>All bedrooms</td>\n",
       "      <td>All property types</td>\n",
       "      <td>Carlow Town</td>\n",
       "      <td>Euro</td>\n",
       "      <td>NaN</td>\n",
       "    </tr>\n",
       "    <tr>\n",
       "      <th>2</th>\n",
       "      <td>RTB Average Monthly Rent Report</td>\n",
       "      <td>2007Q4</td>\n",
       "      <td>All bedrooms</td>\n",
       "      <td>All property types</td>\n",
       "      <td>Graiguecullen, Carlow</td>\n",
       "      <td>Euro</td>\n",
       "      <td>NaN</td>\n",
       "    </tr>\n",
       "    <tr>\n",
       "      <th>3</th>\n",
       "      <td>RTB Average Monthly Rent Report</td>\n",
       "      <td>2007Q4</td>\n",
       "      <td>All bedrooms</td>\n",
       "      <td>All property types</td>\n",
       "      <td>Tullow, Carlow</td>\n",
       "      <td>Euro</td>\n",
       "      <td>724.37</td>\n",
       "    </tr>\n",
       "    <tr>\n",
       "      <th>4</th>\n",
       "      <td>RTB Average Monthly Rent Report</td>\n",
       "      <td>2007Q4</td>\n",
       "      <td>All bedrooms</td>\n",
       "      <td>All property types</td>\n",
       "      <td>Cavan</td>\n",
       "      <td>Euro</td>\n",
       "      <td>587.92</td>\n",
       "    </tr>\n",
       "  </tbody>\n",
       "</table>\n",
       "</div>"
      ],
      "text/plain": [
       "                   STATISTIC Label Quarter Number of Bedrooms  \\\n",
       "0  RTB Average Monthly Rent Report  2007Q4       All bedrooms   \n",
       "1  RTB Average Monthly Rent Report  2007Q4       All bedrooms   \n",
       "2  RTB Average Monthly Rent Report  2007Q4       All bedrooms   \n",
       "3  RTB Average Monthly Rent Report  2007Q4       All bedrooms   \n",
       "4  RTB Average Monthly Rent Report  2007Q4       All bedrooms   \n",
       "\n",
       "        Property Type               Location  UNIT   VALUE  \n",
       "0  All property types                 Carlow  Euro  805.30  \n",
       "1  All property types            Carlow Town  Euro     NaN  \n",
       "2  All property types  Graiguecullen, Carlow  Euro     NaN  \n",
       "3  All property types         Tullow, Carlow  Euro  724.37  \n",
       "4  All property types                  Cavan  Euro  587.92  "
      ]
     },
     "execution_count": 12,
     "metadata": {},
     "output_type": "execute_result"
    }
   ],
   "source": [
    "#Reading the dataset\n",
    "df = pd.read_csv(r\"C:/Users/Fabiola/Downloads/Ireland_rents.csv\")\n",
    "\n",
    "#Displaying the first 10 rows of the dataset\n",
    "df.head()"
   ]
  },
  {
   "cell_type": "code",
   "execution_count": 13,
   "metadata": {},
   "outputs": [
    {
     "data": {
      "text/html": [
       "<div>\n",
       "<style scoped>\n",
       "    .dataframe tbody tr th:only-of-type {\n",
       "        vertical-align: middle;\n",
       "    }\n",
       "\n",
       "    .dataframe tbody tr th {\n",
       "        vertical-align: top;\n",
       "    }\n",
       "\n",
       "    .dataframe thead th {\n",
       "        text-align: right;\n",
       "    }\n",
       "</style>\n",
       "<table border=\"1\" class=\"dataframe\">\n",
       "  <thead>\n",
       "    <tr style=\"text-align: right;\">\n",
       "      <th></th>\n",
       "      <th>STATISTIC Label</th>\n",
       "      <th>Quarter</th>\n",
       "      <th>Number of Bedrooms</th>\n",
       "      <th>Property Type</th>\n",
       "      <th>Location</th>\n",
       "      <th>UNIT</th>\n",
       "      <th>VALUE</th>\n",
       "    </tr>\n",
       "  </thead>\n",
       "  <tbody>\n",
       "    <tr>\n",
       "      <th>802795</th>\n",
       "      <td>RTB Average Monthly Rent Report</td>\n",
       "      <td>2022Q3</td>\n",
       "      <td>Four plus bed</td>\n",
       "      <td>Other flats</td>\n",
       "      <td>Delgany, Wicklow</td>\n",
       "      <td>Euro</td>\n",
       "      <td>NaN</td>\n",
       "    </tr>\n",
       "    <tr>\n",
       "      <th>802796</th>\n",
       "      <td>RTB Average Monthly Rent Report</td>\n",
       "      <td>2022Q3</td>\n",
       "      <td>Four plus bed</td>\n",
       "      <td>Other flats</td>\n",
       "      <td>Greystones, Wicklow</td>\n",
       "      <td>Euro</td>\n",
       "      <td>NaN</td>\n",
       "    </tr>\n",
       "    <tr>\n",
       "      <th>802797</th>\n",
       "      <td>RTB Average Monthly Rent Report</td>\n",
       "      <td>2022Q3</td>\n",
       "      <td>Four plus bed</td>\n",
       "      <td>Other flats</td>\n",
       "      <td>Kilcoole, Wicklow</td>\n",
       "      <td>Euro</td>\n",
       "      <td>NaN</td>\n",
       "    </tr>\n",
       "    <tr>\n",
       "      <th>802798</th>\n",
       "      <td>RTB Average Monthly Rent Report</td>\n",
       "      <td>2022Q3</td>\n",
       "      <td>Four plus bed</td>\n",
       "      <td>Other flats</td>\n",
       "      <td>Newtownmountkennedy, Wicklow</td>\n",
       "      <td>Euro</td>\n",
       "      <td>NaN</td>\n",
       "    </tr>\n",
       "    <tr>\n",
       "      <th>802799</th>\n",
       "      <td>RTB Average Monthly Rent Report</td>\n",
       "      <td>2022Q3</td>\n",
       "      <td>Four plus bed</td>\n",
       "      <td>Other flats</td>\n",
       "      <td>Rathnew, Wicklow</td>\n",
       "      <td>Euro</td>\n",
       "      <td>NaN</td>\n",
       "    </tr>\n",
       "  </tbody>\n",
       "</table>\n",
       "</div>"
      ],
      "text/plain": [
       "                        STATISTIC Label Quarter Number of Bedrooms  \\\n",
       "802795  RTB Average Monthly Rent Report  2022Q3      Four plus bed   \n",
       "802796  RTB Average Monthly Rent Report  2022Q3      Four plus bed   \n",
       "802797  RTB Average Monthly Rent Report  2022Q3      Four plus bed   \n",
       "802798  RTB Average Monthly Rent Report  2022Q3      Four plus bed   \n",
       "802799  RTB Average Monthly Rent Report  2022Q3      Four plus bed   \n",
       "\n",
       "       Property Type                      Location  UNIT  VALUE  \n",
       "802795   Other flats              Delgany, Wicklow  Euro    NaN  \n",
       "802796   Other flats           Greystones, Wicklow  Euro    NaN  \n",
       "802797   Other flats             Kilcoole, Wicklow  Euro    NaN  \n",
       "802798   Other flats  Newtownmountkennedy, Wicklow  Euro    NaN  \n",
       "802799   Other flats              Rathnew, Wicklow  Euro    NaN  "
      ]
     },
     "execution_count": 13,
     "metadata": {},
     "output_type": "execute_result"
    }
   ],
   "source": [
    "#Displaying the last 10 rows of the dataset\n",
    "df.tail()"
   ]
  },
  {
   "cell_type": "code",
   "execution_count": 14,
   "metadata": {},
   "outputs": [
    {
     "data": {
      "text/plain": [
       "(802800, 7)"
      ]
     },
     "execution_count": 14,
     "metadata": {},
     "output_type": "execute_result"
    }
   ],
   "source": [
    "#Checking the size\n",
    "df.shape"
   ]
  },
  {
   "cell_type": "code",
   "execution_count": 15,
   "metadata": {},
   "outputs": [
    {
     "name": "stdout",
     "output_type": "stream",
     "text": [
      "<class 'pandas.core.frame.DataFrame'>\n",
      "RangeIndex: 802800 entries, 0 to 802799\n",
      "Data columns (total 7 columns):\n",
      " #   Column              Non-Null Count   Dtype  \n",
      "---  ------              --------------   -----  \n",
      " 0   STATISTIC Label     802800 non-null  object \n",
      " 1   Quarter             802800 non-null  object \n",
      " 2   Number of Bedrooms  802800 non-null  object \n",
      " 3   Property Type       802800 non-null  object \n",
      " 4   Location            802800 non-null  object \n",
      " 5   UNIT                802800 non-null  object \n",
      " 6   VALUE               204771 non-null  float64\n",
      "dtypes: float64(1), object(6)\n",
      "memory usage: 42.9+ MB\n"
     ]
    }
   ],
   "source": [
    "#Gettig some information about the dataset\n",
    "df.info(verbose=True)"
   ]
  },
  {
   "cell_type": "code",
   "execution_count": 16,
   "metadata": {},
   "outputs": [
    {
     "data": {
      "text/html": [
       "<div>\n",
       "<style scoped>\n",
       "    .dataframe tbody tr th:only-of-type {\n",
       "        vertical-align: middle;\n",
       "    }\n",
       "\n",
       "    .dataframe tbody tr th {\n",
       "        vertical-align: top;\n",
       "    }\n",
       "\n",
       "    .dataframe thead th {\n",
       "        text-align: right;\n",
       "    }\n",
       "</style>\n",
       "<table border=\"1\" class=\"dataframe\">\n",
       "  <thead>\n",
       "    <tr style=\"text-align: right;\">\n",
       "      <th></th>\n",
       "      <th>count</th>\n",
       "      <th>mean</th>\n",
       "      <th>std</th>\n",
       "      <th>min</th>\n",
       "      <th>25%</th>\n",
       "      <th>50%</th>\n",
       "      <th>75%</th>\n",
       "      <th>max</th>\n",
       "    </tr>\n",
       "  </thead>\n",
       "  <tbody>\n",
       "    <tr>\n",
       "      <th>VALUE</th>\n",
       "      <td>204771.0</td>\n",
       "      <td>1011.750505</td>\n",
       "      <td>479.345992</td>\n",
       "      <td>233.67</td>\n",
       "      <td>650.32</td>\n",
       "      <td>901.88</td>\n",
       "      <td>1252.335</td>\n",
       "      <td>6522.48</td>\n",
       "    </tr>\n",
       "  </tbody>\n",
       "</table>\n",
       "</div>"
      ],
      "text/plain": [
       "          count         mean         std     min     25%     50%       75%  \\\n",
       "VALUE  204771.0  1011.750505  479.345992  233.67  650.32  901.88  1252.335   \n",
       "\n",
       "           max  \n",
       "VALUE  6522.48  "
      ]
     },
     "execution_count": 16,
     "metadata": {},
     "output_type": "execute_result"
    }
   ],
   "source": [
    "#Statistical description of the numerical variables\n",
    "df.describe().T"
   ]
  },
  {
   "cell_type": "code",
   "execution_count": 17,
   "metadata": {},
   "outputs": [
    {
     "data": {
      "text/html": [
       "<div>\n",
       "<style scoped>\n",
       "    .dataframe tbody tr th:only-of-type {\n",
       "        vertical-align: middle;\n",
       "    }\n",
       "\n",
       "    .dataframe tbody tr th {\n",
       "        vertical-align: top;\n",
       "    }\n",
       "\n",
       "    .dataframe thead th {\n",
       "        text-align: right;\n",
       "    }\n",
       "</style>\n",
       "<table border=\"1\" class=\"dataframe\">\n",
       "  <thead>\n",
       "    <tr style=\"text-align: right;\">\n",
       "      <th></th>\n",
       "      <th>count</th>\n",
       "      <th>unique</th>\n",
       "      <th>top</th>\n",
       "      <th>freq</th>\n",
       "    </tr>\n",
       "  </thead>\n",
       "  <tbody>\n",
       "    <tr>\n",
       "      <th>STATISTIC Label</th>\n",
       "      <td>802800</td>\n",
       "      <td>1</td>\n",
       "      <td>RTB Average Monthly Rent Report</td>\n",
       "      <td>802800</td>\n",
       "    </tr>\n",
       "    <tr>\n",
       "      <th>Quarter</th>\n",
       "      <td>802800</td>\n",
       "      <td>60</td>\n",
       "      <td>2007Q4</td>\n",
       "      <td>13380</td>\n",
       "    </tr>\n",
       "    <tr>\n",
       "      <th>Number of Bedrooms</th>\n",
       "      <td>802800</td>\n",
       "      <td>5</td>\n",
       "      <td>All bedrooms</td>\n",
       "      <td>160560</td>\n",
       "    </tr>\n",
       "    <tr>\n",
       "      <th>Property Type</th>\n",
       "      <td>802800</td>\n",
       "      <td>6</td>\n",
       "      <td>All property types</td>\n",
       "      <td>133800</td>\n",
       "    </tr>\n",
       "    <tr>\n",
       "      <th>Location</th>\n",
       "      <td>802800</td>\n",
       "      <td>446</td>\n",
       "      <td>Carlow</td>\n",
       "      <td>1800</td>\n",
       "    </tr>\n",
       "    <tr>\n",
       "      <th>UNIT</th>\n",
       "      <td>802800</td>\n",
       "      <td>1</td>\n",
       "      <td>Euro</td>\n",
       "      <td>802800</td>\n",
       "    </tr>\n",
       "  </tbody>\n",
       "</table>\n",
       "</div>"
      ],
      "text/plain": [
       "                     count unique                              top    freq\n",
       "STATISTIC Label     802800      1  RTB Average Monthly Rent Report  802800\n",
       "Quarter             802800     60                           2007Q4   13380\n",
       "Number of Bedrooms  802800      5                     All bedrooms  160560\n",
       "Property Type       802800      6               All property types  133800\n",
       "Location            802800    446                           Carlow    1800\n",
       "UNIT                802800      1                             Euro  802800"
      ]
     },
     "execution_count": 17,
     "metadata": {},
     "output_type": "execute_result"
    }
   ],
   "source": [
    "#Statistical description of the categorical variables\n",
    "df.describe(include=object).T"
   ]
  },
  {
   "cell_type": "code",
   "execution_count": 18,
   "metadata": {},
   "outputs": [
    {
     "name": "stdout",
     "output_type": "stream",
     "text": [
      "number of duplicate rows: (0, 7)\n"
     ]
    }
   ],
   "source": [
    "#Checking duplicate rows\n",
    "duplicate_rows_df = df[df.duplicated()]\n",
    "print(\"number of duplicate rows:\", duplicate_rows_df.shape)"
   ]
  },
  {
   "cell_type": "code",
   "execution_count": 19,
   "metadata": {},
   "outputs": [
    {
     "data": {
      "text/plain": [
       "True"
      ]
     },
     "execution_count": 19,
     "metadata": {},
     "output_type": "execute_result"
    }
   ],
   "source": [
    "#Reviewing missing values\n",
    "df.isnull().values.any()"
   ]
  },
  {
   "cell_type": "code",
   "execution_count": 20,
   "metadata": {},
   "outputs": [
    {
     "data": {
      "text/plain": [
       "STATISTIC Label            0\n",
       "Quarter                    0\n",
       "Number of Bedrooms         0\n",
       "Property Type              0\n",
       "Location                   0\n",
       "UNIT                       0\n",
       "VALUE                 598029\n",
       "dtype: int64"
      ]
     },
     "execution_count": 20,
     "metadata": {},
     "output_type": "execute_result"
    }
   ],
   "source": [
    "#Total missing values per column\n",
    "df.isnull().sum()"
   ]
  },
  {
   "cell_type": "code",
   "execution_count": 22,
   "metadata": {},
   "outputs": [
    {
     "data": {
      "text/plain": [
       "<AxesSubplot:>"
      ]
     },
     "execution_count": 22,
     "metadata": {},
     "output_type": "execute_result"
    },
    {
     "data": {
      "image/png": "[encoded data removed]",
      "text/plain": [
       "<Figure size 1800x720 with 3 Axes>"
      ]
     },
     "metadata": {
      "needs_background": "light"
     },
     "output_type": "display_data"
    }
   ],
   "source": [
    "msno.bar(df)"
   ]
  },
  {
   "cell_type": "code",
   "execution_count": 23,
   "metadata": {},
   "outputs": [
    {
     "data": {
      "text/plain": [
       "<AxesSubplot:>"
      ]
     },
     "execution_count": 23,
     "metadata": {},
     "output_type": "execute_result"
    },
    {
     "data": {
      "image/png": "[encoded data removed]",
      "text/plain": [
       "<Figure size 1800x720 with 2 Axes>"
      ]
     },
     "metadata": {
      "needs_background": "light"
     },
     "output_type": "display_data"
    }
   ],
   "source": [
    "msno.matrix(df)"
   ]
  },
  {
   "attachments": {},
   "cell_type": "markdown",
   "metadata": {},
   "source": [
    "Next we will analyze the unique values ​​per column."
   ]
  },
  {
   "cell_type": "code",
   "execution_count": 24,
   "metadata": {},
   "outputs": [
    {
     "data": {
      "text/plain": [
       "array(['RTB Average Monthly Rent Report'], dtype=object)"
      ]
     },
     "execution_count": 24,
     "metadata": {},
     "output_type": "execute_result"
    }
   ],
   "source": [
    "#Analyzing unique values ​​within the STATISTIC column\n",
    "df['STATISTIC Label'].unique()"
   ]
  },
  {
   "cell_type": "code",
   "execution_count": 25,
   "metadata": {},
   "outputs": [
    {
     "data": {
      "text/plain": [
       "array(['2007Q4', '2008Q1', '2008Q2', '2008Q3', '2008Q4', '2009Q1',\n",
       "       '2009Q2', '2009Q3', '2009Q4', '2010Q1', '2010Q2', '2010Q3',\n",
       "       '2010Q4', '2011Q1', '2011Q2', '2011Q3', '2011Q4', '2012Q1',\n",
       "       '2012Q2', '2012Q3', '2012Q4', '2013Q1', '2013Q2', '2013Q3',\n",
       "       '2013Q4', '2014Q1', '2014Q2', '2014Q3', '2014Q4', '2015Q1',\n",
       "       '2015Q2', '2015Q3', '2015Q4', '2016Q1', '2016Q2', '2016Q3',\n",
       "       '2016Q4', '2017Q1', '2017Q2', '2017Q3', '2017Q4', '2018Q1',\n",
       "       '2018Q2', '2018Q3', '2018Q4', '2019Q1', '2019Q2', '2019Q3',\n",
       "       '2019Q4', '2020Q1', '2020Q2', '2020Q3', '2020Q4', '2021Q1',\n",
       "       '2021Q2', '2021Q3', '2021Q4', '2022Q1', '2022Q2', '2022Q3'],\n",
       "      dtype=object)"
      ]
     },
     "execution_count": 25,
     "metadata": {},
     "output_type": "execute_result"
    }
   ],
   "source": [
    "#Analyzing unique values ​​within the Quarter column\n",
    "df['Quarter'].unique()"
   ]
  },
  {
   "cell_type": "code",
   "execution_count": 26,
   "metadata": {},
   "outputs": [
    {
     "data": {
      "text/plain": [
       "array(['All bedrooms', 'One bed', 'Two bed', 'Three bed', 'Four plus bed'],\n",
       "      dtype=object)"
      ]
     },
     "execution_count": 26,
     "metadata": {},
     "output_type": "execute_result"
    }
   ],
   "source": [
    "#Analyzing unique values ​​within the Number of Bedrooms column\n",
    "df['Number of Bedrooms'].unique()"
   ]
  },
  {
   "cell_type": "code",
   "execution_count": 27,
   "metadata": {},
   "outputs": [
    {
     "data": {
      "text/plain": [
       "array(['All property types', 'Detached house', 'Semi detached house',\n",
       "       'Terrace house', 'Apartment', 'Other flats'], dtype=object)"
      ]
     },
     "execution_count": 27,
     "metadata": {},
     "output_type": "execute_result"
    }
   ],
   "source": [
    "#Analyzing unique values ​​within the Property Type column\n",
    "df['Property Type'].unique()"
   ]
  },
  {
   "cell_type": "code",
   "execution_count": 28,
   "metadata": {},
   "outputs": [
    {
     "data": {
      "text/plain": [
       "array(['Carlow', 'Carlow Town', 'Graiguecullen, Carlow', 'Tullow, Carlow',\n",
       "       'Cavan', 'Cavan Town', 'Bailieborough, Cavan',\n",
       "       'Ballyconnell, Cavan', 'Ballyjamesduff, Cavan', 'Belturbet, Cavan',\n",
       "       'Cootehill, Cavan', 'Kingscourt, Cavan', 'Virginia, Cavan',\n",
       "       'Clare', 'Ennis, Clare', 'Killaloe, Clare', 'Kilrush, Clare',\n",
       "       'Newmarket-On-Fergus, Clare', 'Shannon, Clare',\n",
       "       'Sixmilebridge, Clare', 'Cork', 'Cork City', 'Ballincollig, Cork',\n",
       "       'Ballintemple, Cork', 'Ballinure, Cork', 'Bandon, Cork',\n",
       "       'Bantry, Cork', 'Bishopstown, Cork', 'Blackpool, Cork',\n",
       "       'Blackrock, Cork', 'Blarney, Cork', 'Carrigaline, Cork',\n",
       "       'Carrigtwohill, Cork', 'Castlemartyr, Cork', 'Charleville, Cork',\n",
       "       'Clonakilty, Cork', 'Cloyne, Cork', 'Cobh, Cork',\n",
       "       'Crosshaven, Cork', 'Douglas, Cork', 'Dunmanway, Cork',\n",
       "       'Fermoy, Cork', 'Frankfield, Cork', 'Glanmire, Cork',\n",
       "       'Kanturk, Cork', 'Kinsale, Cork', 'Macroom, Cork', 'Mallow, Cork',\n",
       "       'Midleton, Cork', 'Millstreet, Cork', 'Mitchelstown, Cork',\n",
       "       'Montenotte, Cork', 'Passage West, Cork', 'Rathcormac, Cork',\n",
       "       'Ringaskiddy, Cork', 'Rochestown, Cork', 'Skibbereen, Cork',\n",
       "       'Tivoli, Cork', 'Tower, Cork', 'Whitegate, Cork', 'Wilton, Cork',\n",
       "       'Youghal, Cork', 'Donegal', 'Donegal Town', 'Ballybofey, Donegal',\n",
       "       'Buncrana, Donegal', 'Bundoran, Donegal', 'Carndonagh, Donegal',\n",
       "       'Letterkenny, Donegal', 'Lifford, Donegal', 'Stranorlar, Donegal',\n",
       "       'Dublin', 'Balbriggan, Dublin', 'Blackrock, Dublin',\n",
       "       'Booterstown, Dublin', 'Cabinteely, Dublin', 'Citywest, Dublin',\n",
       "       'Dalkey, Dublin', 'Donabate, Dublin', 'Dun Laoghaire, Dublin',\n",
       "       'Glenageary, Dublin', 'Howth, Dublin', 'Killiney, Dublin',\n",
       "       'Kinsealy, Dublin', 'Lucan, Dublin', 'Lusk, Dublin',\n",
       "       'Malahide, Dublin', 'Monkstown, Dublin', 'Mount Merrion, Dublin',\n",
       "       'Portmarnock, Dublin', 'Rathcoole, Dublin', 'Rush, Dublin',\n",
       "       'Saggart, Dublin', 'Sandycove, Dublin', 'Shankill, Dublin',\n",
       "       'Skerries, Dublin', 'Stepaside, Dublin', 'Stillorgan, Dublin',\n",
       "       'Swords, Dublin', 'Dublin 1', 'I.F.S.C., Dublin 1',\n",
       "       'Parnell Street, Dublin 1', 'Spencer Dock, Dublin 1',\n",
       "       'Summerhill, Dublin 1', 'Dublin 2', 'Aungier Street, Dublin 2',\n",
       "       'Charlemont Street, Dublin 2', 'Grand Canal Dock, Dublin 2',\n",
       "       'Grand Canal Square, Dublin 2', 'Hanover Quay, Dublin 2',\n",
       "       'Lower Mount Street, Dublin 2', 'Pearse Street, Dublin 2',\n",
       "       'Tara Street, Dublin 2', 'Temple Bar, Dublin 2',\n",
       "       'Townsend Street, Dublin 2', 'Dublin 3', 'Clonliffe, Dublin 3',\n",
       "       'Clontarf, Dublin 3', 'Drumcondra, Dublin 3',\n",
       "       'East Wall, Dublin 3', 'Eastwall, Dublin 3', 'Fairview, Dublin 3',\n",
       "       'Marino, Dublin 3', 'North Strand, Dublin 3', 'Dublin 4',\n",
       "       'Ballsbridge, Dublin 4', 'Donnybrook, Dublin 4',\n",
       "       'Irishtown, Dublin 4', 'Merrion, Dublin 4', 'Pembroke, Dublin 4',\n",
       "       'Ringsend, Dublin 4', 'Sandymount, Dublin 4', 'Dublin 5',\n",
       "       'Artane, Dublin 5', 'Killester, Dublin 5', 'Raheny, Dublin 5',\n",
       "       'Dublin 6', 'Dartry, Dublin 6', 'Harolds Cross, Dublin 6',\n",
       "       'Milltown, Dublin 6', 'Ranelagh, Dublin 6', 'Rathgar, Dublin 6',\n",
       "       'Rathmines, Dublin 6', 'Terenure, Dublin 6', 'Dublin 6W',\n",
       "       'Harolds Cross, Dublin 6W', 'Templeogue, Dublin 6W',\n",
       "       'Terenure, Dublin 6W', 'Dublin 7', 'Arbour Hill, Dublin 7',\n",
       "       'Cabra, Dublin 7', 'Navan Road, Dublin 7',\n",
       "       'North Circular Road, Dublin 7', 'Phibsboro, Dublin 7',\n",
       "       'Smithfield, Dublin 7', 'Stoneybatter, Dublin 7', 'Dublin 8',\n",
       "       'Christchurch, Dublin 8', 'Cork Street, Dublin 8',\n",
       "       'Dolphins Barn, Dublin 8', 'Inchicore, Dublin 8',\n",
       "       'Islandbridge, Dublin 8', 'Kilmainham , Dublin 8',\n",
       "       'Portobello, Dublin 8', 'Rialto, Dublin 8',\n",
       "       'South Circular Road, Dublin 8', 'The Coombe, Dublin 8',\n",
       "       'Dublin 9', 'Ballymun, Dublin 9', 'Beaumont, Dublin 9',\n",
       "       'Drumcondra, Dublin 9', 'Glasnevin, Dublin 9', 'Santry, Dublin 9',\n",
       "       'Whitehall, Dublin 9', 'Dublin 10', 'Ballyfermot, Dublin 10',\n",
       "       'Cherry Orchard, Dublin 10', 'Dublin 11', 'Ballymun, Dublin 11',\n",
       "       'Finglas, Dublin 11', 'Glasnevin, Dublin 11',\n",
       "       'Meakstown, Dublin 11', 'St Margarets Road, Dublin 11',\n",
       "       'Dublin 12', 'Crumlin, Dublin 12', 'Drimnagh, Dublin 12',\n",
       "       'Kimmage, Dublin 12', 'Walkinstown, Dublin 12', 'Dublin 13',\n",
       "       'Baldoyle, Dublin 13', 'Balgriffin, Dublin 13',\n",
       "       'Clongriffin, Dublin 13', 'Donaghmede, Dublin 13',\n",
       "       'Sutton, Dublin 13', 'Dublin 14', 'Churchtown, Dublin 14',\n",
       "       'Clonskeagh, Dublin 14', 'Dundrum, Dublin 14',\n",
       "       'Goatstown, Dublin 14', 'Rathfarnham, Dublin 14', 'Dublin 15',\n",
       "       'Ashtown, Dublin 15', 'Blanchardstown, Dublin 15',\n",
       "       'Carpenterstown, Dublin 15', 'Castleknock, Dublin 15',\n",
       "       'Clonee, Dublin 15', 'Clonsilla, Dublin 15', 'Coolmine, Dublin 15',\n",
       "       'Mulhuddart, Dublin 15', 'Ongar, Dublin 15',\n",
       "       'Porterstown, Dublin 15', 'Royal Canal Park, Dublin 15',\n",
       "       'Tyrrelstown, Dublin 15', 'Dublin 16', 'Ballinteer, Dublin 16',\n",
       "       'Dundrum, Dublin 16', 'Knocklyon, Dublin 16',\n",
       "       'Rathfarnham, Dublin 16', 'Sandyford, Dublin 16', 'Dublin 17',\n",
       "       'Malahide Road, Dublin 17', 'Northern Cross, Dublin 17',\n",
       "       'Dublin 18', 'Cabinteely, Dublin 18', 'Carrickmines, Dublin 18',\n",
       "       'Foxrock, Dublin 18', 'Leopardstown, Dublin 18',\n",
       "       'Sandyford, Dublin 18', 'Stepaside, Dublin 18', 'Dublin 20',\n",
       "       'Chapelizod, Dublin 20', 'Palmerstown, Dublin 20',\n",
       "       'Clondalkin, Dublin 22', 'Dublin 24', 'Ballycullen, Dublin 24',\n",
       "       'Citywest, Dublin 24', 'Firhouse, Dublin 24',\n",
       "       'Tallaght, Dublin 24', 'Galway', 'Galway City', 'Athenry, Galway',\n",
       "       'Ballinasloe, Galway', 'Ballybane, Galway', 'Ballybrit, Galway',\n",
       "       'Barna, Galway', 'Bohermore, Galway', 'Claregalway, Galway',\n",
       "       'Clifden, Galway', 'Doughiska, Galway', 'Gort, Galway',\n",
       "       'Headford, Galway', 'Knocknacarra, Galway', 'Loughrea, Galway',\n",
       "       'Mervue, Galway', 'Monivea, Galway', 'Moycullen, Galway',\n",
       "       'Newcastle, Galway', 'Oranmore, Galway', 'Oughterard, Galway',\n",
       "       'Portumna, Galway', 'Rahoon, Galway', 'Renmore, Galway',\n",
       "       'Roscam, Galway', 'Salthill, Galway', 'Tuam, Galway',\n",
       "       'Wellpark, Galway', 'Woodquay, Galway', 'Kerry',\n",
       "       'Castleisland, Kerry', 'Dingle, Kerry', 'Kenmare, Kerry',\n",
       "       'Killarney, Kerry', 'Killorglin, Kerry', 'Listowel, Kerry',\n",
       "       'Tralee, Kerry', 'Kildare', 'Kildare Town', 'Athy, Kildare',\n",
       "       'Castledermot, Kildare', 'Celbridge, Kildare', 'Clane, Kildare',\n",
       "       'Kilcock, Kildare', 'Kilcullen, Kildare', 'Kill, Kildare',\n",
       "       'Leixlip, Kildare', 'Maynooth, Kildare', 'Monasterevin, Kildare',\n",
       "       'Naas, Kildare', 'Newbridge, Kildare', 'Rathangan, Kildare',\n",
       "       'Sallins, Kildare', 'Kilkenny', 'Kilkenny City',\n",
       "       'Callan, Kilkenny', 'Castlecomer, Kilkenny', 'Freshford, Kilkenny',\n",
       "       'Kells, Kilkenny', 'Thomastown, Kilkenny', 'Laois',\n",
       "       'Mountmellick, Laois', 'Mountrath, Laois', 'Portarlington, Laois',\n",
       "       'Portlaoise, Laois', 'Leitrim', 'Carrick-On-Shannon, Leitrim',\n",
       "       'Manorhamilton, Leitrim', 'Limerick', 'Limerick City',\n",
       "       'Abbeyfeale, Limerick', 'Annacotty, Limerick',\n",
       "       'Castleconnell, Limerick', 'Castletroy, Limerick',\n",
       "       'Corbally, Limerick', 'Dock Road, Limerick',\n",
       "       'Dooradoyle, Limerick', 'Glen, Limerick', 'Kilmallock, Limerick',\n",
       "       'Newcastle West, Limerick', 'Old Cratloe Road, Limerick',\n",
       "       'Raheen, Limerick', 'Longford', 'Longford Town',\n",
       "       'Ballymahon, Longford', 'Edgeworthstown, Longford',\n",
       "       'Newtownforbes, Longford', 'Louth', 'Ardee, Louth',\n",
       "       'Drogheda, Louth', 'Dundalk, Louth', 'Louth Town', 'Mayo',\n",
       "       'Ballina, Mayo', 'Ballinrobe, Mayo', 'Ballyhaunis, Mayo',\n",
       "       'Belmullet, Mayo', 'Castlebar, Mayo', 'Charlestown, Mayo',\n",
       "       'Claremorris, Mayo', 'Foxford, Mayo', 'Swinford, Mayo',\n",
       "       'Westport, Mayo', 'Meath', 'Ashbourne, Meath', 'Athboy, Meath',\n",
       "       'Bettystown, Meath', 'Clonee, Meath', 'Drogheda, Meath',\n",
       "       'Duleek, Meath', 'Dunboyne, Meath', 'Dunshaughlin, Meath',\n",
       "       'Enfield, Meath', 'Kells, Meath', 'Laytown, Meath', 'Navan, Meath',\n",
       "       'Ratoath, Meath', 'Stamullen, Meath', 'Trim, Meath', 'Monaghan',\n",
       "       'Ballybay, Monaghan', 'Carrickmacross, Monaghan',\n",
       "       'Castleblayney, Monaghan', 'Monaghan Town', 'Offaly',\n",
       "       'Banagher, Offaly', 'Birr, Offaly', 'Clara, Offaly',\n",
       "       'Edenderry, Offaly', 'Tullamore, Offaly', 'Roscommon',\n",
       "       'Roscommon Town', 'Athlone, Roscommon',\n",
       "       'Ballaghaderreen, Roscommon', 'Boyle, Roscommon',\n",
       "       'Castlerea, Roscommon', 'Strokestown, Roscommon', 'Sligo',\n",
       "       'Sligo Town', 'Ballinode, Sligo', 'Ballisodare, Sligo',\n",
       "       'Ballymote, Sligo', 'Ballytivnan, Sligo', 'Collooney, Sligo',\n",
       "       'Lough Gill, Sligo', 'Strandhill, Sligo', 'Tubbercurry, Sligo',\n",
       "       'Tipperary', 'Tipperary Town', 'Ballina, Tipperary',\n",
       "       'Cahir, Tipperary', 'Carrick-On-Suir, Tipperary',\n",
       "       'Cashel, Tipperary', 'Clonmel, Tipperary', 'Fethard, Tipperary',\n",
       "       'Nenagh, Tipperary', 'Roscrea, Tipperary', 'Templemore, Tipperary',\n",
       "       'Thurles, Tipperary', 'Waterford', 'Waterford City',\n",
       "       'Ballytruckle, Waterford', 'Canada Street, Waterford',\n",
       "       'Castle Place, Waterford', 'Cork Road, Waterford',\n",
       "       'Dungarvan, Waterford', 'Dunmore East, Waterford',\n",
       "       'Dunmore Road, Waterford', 'Ferrybank, Waterford',\n",
       "       'Inner Ring Road, Waterford', 'Johns Hill, Waterford',\n",
       "       'Lismore, Waterford', 'Mary Street, Waterford',\n",
       "       'Penrose Lane, Waterford', 'Poleberry, Waterford',\n",
       "       'Portlaw, Waterford', 'Railway Square, Waterford',\n",
       "       'Scotch Quay, Waterford', 'Templars Hall, Waterford',\n",
       "       'Tramore, Waterford', 'Westmeath', 'Athlone, Westmeath',\n",
       "       'Castlepollard, Westmeath', 'Kilbeggan, Westmeath',\n",
       "       'Kinnegad, Westmeath', 'Moate, Westmeath', 'Mullingar, Westmeath',\n",
       "       'Wexford', 'Bunclody, Wexford', 'Clonard, Wexford',\n",
       "       'Enniscorthy, Wexford', 'Ferns, Wexford', 'Ford, Wexford',\n",
       "       'Gorey, Wexford', 'Mulgannon, Wexford', 'New Ross, Wexford',\n",
       "       'Rosslare, Wexford', 'Wicklow', 'Wicklow Town', 'Arklow, Wicklow',\n",
       "       'Baltinglass, Wicklow', 'Blessington, Wicklow', 'Bray, Wicklow',\n",
       "       'Delgany, Wicklow', 'Greystones, Wicklow', 'Kilcoole, Wicklow',\n",
       "       'Newtownmountkennedy, Wicklow', 'Rathnew, Wicklow'], dtype=object)"
      ]
     },
     "execution_count": 28,
     "metadata": {},
     "output_type": "execute_result"
    }
   ],
   "source": [
    "#Analyzing unique values ​​within the Location column\n",
    "df['Location'].unique()"
   ]
  },
  {
   "cell_type": "code",
   "execution_count": null,
   "metadata": {},
   "outputs": [],
   "source": []
  },
  {
   "cell_type": "code",
   "execution_count": null,
   "metadata": {},
   "outputs": [],
   "source": []
  },
  {
   "cell_type": "code",
   "execution_count": null,
   "metadata": {},
   "outputs": [],
   "source": []
  },
  {
   "cell_type": "code",
   "execution_count": null,
   "metadata": {},
   "outputs": [],
   "source": []
  },
  {
   "cell_type": "code",
   "execution_count": null,
   "metadata": {},
   "outputs": [],
   "source": []
  }
 ],
 "metadata": {
  "kernelspec": {
   "display_name": "base",
   "language": "python",
   "name": "python3"
  },
  "language_info": {
   "codemirror_mode": {
    "name": "ipython",
    "version": 3
   },
   "file_extension": ".py",
   "mimetype": "text/x-python",
   "name": "python",
   "nbconvert_exporter": "python",
   "pygments_lexer": "ipython3",
   "version": "3.9.7"
  },
  "orig_nbformat": 4,
  "vscode": {
   "interpreter": {
    "hash": "ad2bdc8ecc057115af97d19610ffacc2b4e99fae6737bb82f5d7fb13d2f2c186"
   }
  }
 },
 "nbformat": 4,
 "nbformat_minor": 2
}
