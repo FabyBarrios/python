{
 "cells": [
  {
   "attachments": {},
   "cell_type": "markdown",
   "metadata": {},
   "source": [
    "<div style=\"text-align: center\"> <span style=\"font-size:28px;\"><b>Rents in Ireland</b> </span></div>"
   ]
  },
  {
   "cell_type": "code",
   "execution_count": 41,
   "metadata": {},
   "outputs": [],
   "source": [
    "#Importing the libraries\n",
    "import numpy as np\n",
    "import pandas as pd\n",
    "import missingno as msno\n",
    "import seaborn as sns\n",
    "import matplotlib as mpl\n",
    "import matplotlib.pyplot as plt\n",
    "import ptitprince\n",
    "from __future__ import print_function \n",
    "%matplotlib inline "
   ]
  },
  {
   "cell_type": "code",
   "execution_count": 42,
   "metadata": {},
   "outputs": [
    {
     "data": {
      "text/html": [
       "<div>\n",
       "<style scoped>\n",
       "    .dataframe tbody tr th:only-of-type {\n",
       "        vertical-align: middle;\n",
       "    }\n",
       "\n",
       "    .dataframe tbody tr th {\n",
       "        vertical-align: top;\n",
       "    }\n",
       "\n",
       "    .dataframe thead th {\n",
       "        text-align: right;\n",
       "    }\n",
       "</style>\n",
       "<table border=\"1\" class=\"dataframe\">\n",
       "  <thead>\n",
       "    <tr style=\"text-align: right;\">\n",
       "      <th></th>\n",
       "      <th>STATISTIC Label</th>\n",
       "      <th>Quarter</th>\n",
       "      <th>Number of Bedrooms</th>\n",
       "      <th>Property Type</th>\n",
       "      <th>Location</th>\n",
       "      <th>UNIT</th>\n",
       "      <th>VALUE</th>\n",
       "    </tr>\n",
       "  </thead>\n",
       "  <tbody>\n",
       "    <tr>\n",
       "      <th>0</th>\n",
       "      <td>RTB Average Monthly Rent Report</td>\n",
       "      <td>2007Q4</td>\n",
       "      <td>All bedrooms</td>\n",
       "      <td>All property types</td>\n",
       "      <td>Carlow</td>\n",
       "      <td>Euro</td>\n",
       "      <td>805.30</td>\n",
       "    </tr>\n",
       "    <tr>\n",
       "      <th>1</th>\n",
       "      <td>RTB Average Monthly Rent Report</td>\n",
       "      <td>2007Q4</td>\n",
       "      <td>All bedrooms</td>\n",
       "      <td>All property types</td>\n",
       "      <td>Carlow Town</td>\n",
       "      <td>Euro</td>\n",
       "      <td>NaN</td>\n",
       "    </tr>\n",
       "    <tr>\n",
       "      <th>2</th>\n",
       "      <td>RTB Average Monthly Rent Report</td>\n",
       "      <td>2007Q4</td>\n",
       "      <td>All bedrooms</td>\n",
       "      <td>All property types</td>\n",
       "      <td>Graiguecullen, Carlow</td>\n",
       "      <td>Euro</td>\n",
       "      <td>NaN</td>\n",
       "    </tr>\n",
       "    <tr>\n",
       "      <th>3</th>\n",
       "      <td>RTB Average Monthly Rent Report</td>\n",
       "      <td>2007Q4</td>\n",
       "      <td>All bedrooms</td>\n",
       "      <td>All property types</td>\n",
       "      <td>Tullow, Carlow</td>\n",
       "      <td>Euro</td>\n",
       "      <td>724.37</td>\n",
       "    </tr>\n",
       "    <tr>\n",
       "      <th>4</th>\n",
       "      <td>RTB Average Monthly Rent Report</td>\n",
       "      <td>2007Q4</td>\n",
       "      <td>All bedrooms</td>\n",
       "      <td>All property types</td>\n",
       "      <td>Cavan</td>\n",
       "      <td>Euro</td>\n",
       "      <td>587.92</td>\n",
       "    </tr>\n",
       "  </tbody>\n",
       "</table>\n",
       "</div>"
      ],
      "text/plain": [
       "                   STATISTIC Label Quarter Number of Bedrooms  \\\n",
       "0  RTB Average Monthly Rent Report  2007Q4       All bedrooms   \n",
       "1  RTB Average Monthly Rent Report  2007Q4       All bedrooms   \n",
       "2  RTB Average Monthly Rent Report  2007Q4       All bedrooms   \n",
       "3  RTB Average Monthly Rent Report  2007Q4       All bedrooms   \n",
       "4  RTB Average Monthly Rent Report  2007Q4       All bedrooms   \n",
       "\n",
       "        Property Type               Location  UNIT   VALUE  \n",
       "0  All property types                 Carlow  Euro  805.30  \n",
       "1  All property types            Carlow Town  Euro     NaN  \n",
       "2  All property types  Graiguecullen, Carlow  Euro     NaN  \n",
       "3  All property types         Tullow, Carlow  Euro  724.37  \n",
       "4  All property types                  Cavan  Euro  587.92  "
      ]
     },
     "execution_count": 42,
     "metadata": {},
     "output_type": "execute_result"
    }
   ],
   "source": [
    "#Reading the dataset\n",
    "df = pd.read_csv(r\"C:/Users/Fabiola/Downloads/Ireland_rents.csv\")\n",
    "\n",
    "#Displaying the first 10 rows of the dataset\n",
    "df.head()"
   ]
  },
  {
   "cell_type": "code",
   "execution_count": 43,
   "metadata": {},
   "outputs": [
    {
     "data": {
      "text/html": [
       "<div>\n",
       "<style scoped>\n",
       "    .dataframe tbody tr th:only-of-type {\n",
       "        vertical-align: middle;\n",
       "    }\n",
       "\n",
       "    .dataframe tbody tr th {\n",
       "        vertical-align: top;\n",
       "    }\n",
       "\n",
       "    .dataframe thead th {\n",
       "        text-align: right;\n",
       "    }\n",
       "</style>\n",
       "<table border=\"1\" class=\"dataframe\">\n",
       "  <thead>\n",
       "    <tr style=\"text-align: right;\">\n",
       "      <th></th>\n",
       "      <th>STATISTIC Label</th>\n",
       "      <th>Quarter</th>\n",
       "      <th>Number of Bedrooms</th>\n",
       "      <th>Property Type</th>\n",
       "      <th>Location</th>\n",
       "      <th>UNIT</th>\n",
       "      <th>VALUE</th>\n",
       "    </tr>\n",
       "  </thead>\n",
       "  <tbody>\n",
       "    <tr>\n",
       "      <th>802795</th>\n",
       "      <td>RTB Average Monthly Rent Report</td>\n",
       "      <td>2022Q3</td>\n",
       "      <td>Four plus bed</td>\n",
       "      <td>Other flats</td>\n",
       "      <td>Delgany, Wicklow</td>\n",
       "      <td>Euro</td>\n",
       "      <td>NaN</td>\n",
       "    </tr>\n",
       "    <tr>\n",
       "      <th>802796</th>\n",
       "      <td>RTB Average Monthly Rent Report</td>\n",
       "      <td>2022Q3</td>\n",
       "      <td>Four plus bed</td>\n",
       "      <td>Other flats</td>\n",
       "      <td>Greystones, Wicklow</td>\n",
       "      <td>Euro</td>\n",
       "      <td>NaN</td>\n",
       "    </tr>\n",
       "    <tr>\n",
       "      <th>802797</th>\n",
       "      <td>RTB Average Monthly Rent Report</td>\n",
       "      <td>2022Q3</td>\n",
       "      <td>Four plus bed</td>\n",
       "      <td>Other flats</td>\n",
       "      <td>Kilcoole, Wicklow</td>\n",
       "      <td>Euro</td>\n",
       "      <td>NaN</td>\n",
       "    </tr>\n",
       "    <tr>\n",
       "      <th>802798</th>\n",
       "      <td>RTB Average Monthly Rent Report</td>\n",
       "      <td>2022Q3</td>\n",
       "      <td>Four plus bed</td>\n",
       "      <td>Other flats</td>\n",
       "      <td>Newtownmountkennedy, Wicklow</td>\n",
       "      <td>Euro</td>\n",
       "      <td>NaN</td>\n",
       "    </tr>\n",
       "    <tr>\n",
       "      <th>802799</th>\n",
       "      <td>RTB Average Monthly Rent Report</td>\n",
       "      <td>2022Q3</td>\n",
       "      <td>Four plus bed</td>\n",
       "      <td>Other flats</td>\n",
       "      <td>Rathnew, Wicklow</td>\n",
       "      <td>Euro</td>\n",
       "      <td>NaN</td>\n",
       "    </tr>\n",
       "  </tbody>\n",
       "</table>\n",
       "</div>"
      ],
      "text/plain": [
       "                        STATISTIC Label Quarter Number of Bedrooms  \\\n",
       "802795  RTB Average Monthly Rent Report  2022Q3      Four plus bed   \n",
       "802796  RTB Average Monthly Rent Report  2022Q3      Four plus bed   \n",
       "802797  RTB Average Monthly Rent Report  2022Q3      Four plus bed   \n",
       "802798  RTB Average Monthly Rent Report  2022Q3      Four plus bed   \n",
       "802799  RTB Average Monthly Rent Report  2022Q3      Four plus bed   \n",
       "\n",
       "       Property Type                      Location  UNIT  VALUE  \n",
       "802795   Other flats              Delgany, Wicklow  Euro    NaN  \n",
       "802796   Other flats           Greystones, Wicklow  Euro    NaN  \n",
       "802797   Other flats             Kilcoole, Wicklow  Euro    NaN  \n",
       "802798   Other flats  Newtownmountkennedy, Wicklow  Euro    NaN  \n",
       "802799   Other flats              Rathnew, Wicklow  Euro    NaN  "
      ]
     },
     "execution_count": 43,
     "metadata": {},
     "output_type": "execute_result"
    }
   ],
   "source": [
    "#Displaying the last 10 rows of the dataset\n",
    "df.tail()"
   ]
  },
  {
   "cell_type": "code",
   "execution_count": 44,
   "metadata": {},
   "outputs": [
    {
     "data": {
      "text/plain": [
       "(802800, 7)"
      ]
     },
     "execution_count": 44,
     "metadata": {},
     "output_type": "execute_result"
    }
   ],
   "source": [
    "#Checking the size\n",
    "df.shape"
   ]
  },
  {
   "cell_type": "code",
   "execution_count": 45,
   "metadata": {},
   "outputs": [
    {
     "name": "stdout",
     "output_type": "stream",
     "text": [
      "<class 'pandas.core.frame.DataFrame'>\n",
      "RangeIndex: 802800 entries, 0 to 802799\n",
      "Data columns (total 7 columns):\n",
      " #   Column              Non-Null Count   Dtype  \n",
      "---  ------              --------------   -----  \n",
      " 0   STATISTIC Label     802800 non-null  object \n",
      " 1   Quarter             802800 non-null  object \n",
      " 2   Number of Bedrooms  802800 non-null  object \n",
      " 3   Property Type       802800 non-null  object \n",
      " 4   Location            802800 non-null  object \n",
      " 5   UNIT                802800 non-null  object \n",
      " 6   VALUE               204771 non-null  float64\n",
      "dtypes: float64(1), object(6)\n",
      "memory usage: 42.9+ MB\n"
     ]
    }
   ],
   "source": [
    "#Gettig some information about the dataset\n",
    "df.info(verbose=True)"
   ]
  },
  {
   "cell_type": "code",
   "execution_count": 46,
   "metadata": {},
   "outputs": [
    {
     "data": {
      "text/html": [
       "<div>\n",
       "<style scoped>\n",
       "    .dataframe tbody tr th:only-of-type {\n",
       "        vertical-align: middle;\n",
       "    }\n",
       "\n",
       "    .dataframe tbody tr th {\n",
       "        vertical-align: top;\n",
       "    }\n",
       "\n",
       "    .dataframe thead th {\n",
       "        text-align: right;\n",
       "    }\n",
       "</style>\n",
       "<table border=\"1\" class=\"dataframe\">\n",
       "  <thead>\n",
       "    <tr style=\"text-align: right;\">\n",
       "      <th></th>\n",
       "      <th>count</th>\n",
       "      <th>mean</th>\n",
       "      <th>std</th>\n",
       "      <th>min</th>\n",
       "      <th>25%</th>\n",
       "      <th>50%</th>\n",
       "      <th>75%</th>\n",
       "      <th>max</th>\n",
       "    </tr>\n",
       "  </thead>\n",
       "  <tbody>\n",
       "    <tr>\n",
       "      <th>VALUE</th>\n",
       "      <td>204771.0</td>\n",
       "      <td>1011.750505</td>\n",
       "      <td>479.345992</td>\n",
       "      <td>233.67</td>\n",
       "      <td>650.32</td>\n",
       "      <td>901.88</td>\n",
       "      <td>1252.335</td>\n",
       "      <td>6522.48</td>\n",
       "    </tr>\n",
       "  </tbody>\n",
       "</table>\n",
       "</div>"
      ],
      "text/plain": [
       "          count         mean         std     min     25%     50%       75%  \\\n",
       "VALUE  204771.0  1011.750505  479.345992  233.67  650.32  901.88  1252.335   \n",
       "\n",
       "           max  \n",
       "VALUE  6522.48  "
      ]
     },
     "execution_count": 46,
     "metadata": {},
     "output_type": "execute_result"
    }
   ],
   "source": [
    "#Statistical description of the numerical variables\n",
    "df.describe().T"
   ]
  },
  {
   "cell_type": "code",
   "execution_count": 47,
   "metadata": {},
   "outputs": [
    {
     "data": {
      "text/html": [
       "<div>\n",
       "<style scoped>\n",
       "    .dataframe tbody tr th:only-of-type {\n",
       "        vertical-align: middle;\n",
       "    }\n",
       "\n",
       "    .dataframe tbody tr th {\n",
       "        vertical-align: top;\n",
       "    }\n",
       "\n",
       "    .dataframe thead th {\n",
       "        text-align: right;\n",
       "    }\n",
       "</style>\n",
       "<table border=\"1\" class=\"dataframe\">\n",
       "  <thead>\n",
       "    <tr style=\"text-align: right;\">\n",
       "      <th></th>\n",
       "      <th>count</th>\n",
       "      <th>unique</th>\n",
       "      <th>top</th>\n",
       "      <th>freq</th>\n",
       "    </tr>\n",
       "  </thead>\n",
       "  <tbody>\n",
       "    <tr>\n",
       "      <th>STATISTIC Label</th>\n",
       "      <td>802800</td>\n",
       "      <td>1</td>\n",
       "      <td>RTB Average Monthly Rent Report</td>\n",
       "      <td>802800</td>\n",
       "    </tr>\n",
       "    <tr>\n",
       "      <th>Quarter</th>\n",
       "      <td>802800</td>\n",
       "      <td>60</td>\n",
       "      <td>2007Q4</td>\n",
       "      <td>13380</td>\n",
       "    </tr>\n",
       "    <tr>\n",
       "      <th>Number of Bedrooms</th>\n",
       "      <td>802800</td>\n",
       "      <td>5</td>\n",
       "      <td>All bedrooms</td>\n",
       "      <td>160560</td>\n",
       "    </tr>\n",
       "    <tr>\n",
       "      <th>Property Type</th>\n",
       "      <td>802800</td>\n",
       "      <td>6</td>\n",
       "      <td>All property types</td>\n",
       "      <td>133800</td>\n",
       "    </tr>\n",
       "    <tr>\n",
       "      <th>Location</th>\n",
       "      <td>802800</td>\n",
       "      <td>446</td>\n",
       "      <td>Carlow</td>\n",
       "      <td>1800</td>\n",
       "    </tr>\n",
       "    <tr>\n",
       "      <th>UNIT</th>\n",
       "      <td>802800</td>\n",
       "      <td>1</td>\n",
       "      <td>Euro</td>\n",
       "      <td>802800</td>\n",
       "    </tr>\n",
       "  </tbody>\n",
       "</table>\n",
       "</div>"
      ],
      "text/plain": [
       "                     count unique                              top    freq\n",
       "STATISTIC Label     802800      1  RTB Average Monthly Rent Report  802800\n",
       "Quarter             802800     60                           2007Q4   13380\n",
       "Number of Bedrooms  802800      5                     All bedrooms  160560\n",
       "Property Type       802800      6               All property types  133800\n",
       "Location            802800    446                           Carlow    1800\n",
       "UNIT                802800      1                             Euro  802800"
      ]
     },
     "execution_count": 47,
     "metadata": {},
     "output_type": "execute_result"
    }
   ],
   "source": [
    "#Statistical description of the categorical variables\n",
    "df.describe(include=object).T"
   ]
  },
  {
   "cell_type": "code",
   "execution_count": 48,
   "metadata": {},
   "outputs": [
    {
     "name": "stdout",
     "output_type": "stream",
     "text": [
      "number of duplicate rows: (0, 7)\n"
     ]
    }
   ],
   "source": [
    "#Checking duplicate rows\n",
    "duplicate_rows_df = df[df.duplicated()]\n",
    "print(\"number of duplicate rows:\", duplicate_rows_df.shape)"
   ]
  },
  {
   "cell_type": "code",
   "execution_count": 49,
   "metadata": {},
   "outputs": [
    {
     "data": {
      "text/plain": [
       "True"
      ]
     },
     "execution_count": 49,
     "metadata": {},
     "output_type": "execute_result"
    }
   ],
   "source": [
    "#Reviewing missing values\n",
    "df.isnull().values.any()"
   ]
  },
  {
   "cell_type": "code",
   "execution_count": 50,
   "metadata": {},
   "outputs": [
    {
     "data": {
      "text/plain": [
       "STATISTIC Label            0\n",
       "Quarter                    0\n",
       "Number of Bedrooms         0\n",
       "Property Type              0\n",
       "Location                   0\n",
       "UNIT                       0\n",
       "VALUE                 598029\n",
       "dtype: int64"
      ]
     },
     "execution_count": 50,
     "metadata": {},
     "output_type": "execute_result"
    }
   ],
   "source": [
    "#Total missing values per column\n",
    "df.isnull().sum()"
   ]
  },
  {
   "cell_type": "code",
   "execution_count": 51,
   "metadata": {},
   "outputs": [
    {
     "name": "stdout",
     "output_type": "stream",
     "text": [
      "STATISTIC Label        0.0000\n",
      "Quarter                0.0000\n",
      "Number of Bedrooms     0.0000\n",
      "Property Type          0.0000\n",
      "Location               0.0000\n",
      "UNIT                   0.0000\n",
      "VALUE                 74.4929\n",
      "dtype: float64\n"
     ]
    }
   ],
   "source": [
    "#Percentage of missing values per feature\n",
    "mis_value_percent = 100 * df.isnull().sum() / len(df)\n",
    "print(mis_value_percent)"
   ]
  },
  {
   "cell_type": "code",
   "execution_count": 52,
   "metadata": {},
   "outputs": [
    {
     "data": {
      "text/plain": [
       "<AxesSubplot:>"
      ]
     },
     "execution_count": 52,
     "metadata": {},
     "output_type": "execute_result"
    },
    {
     "data": {
      "image/png": "[encoded data removed]",
      "text/plain": [
       "<Figure size 1800x720 with 3 Axes>"
      ]
     },
     "metadata": {
      "needs_background": "light"
     },
     "output_type": "display_data"
    }
   ],
   "source": [
    "#Visualising missing values graphically\n",
    "msno.bar(df)"
   ]
  },
  {
   "cell_type": "code",
   "execution_count": 53,
   "metadata": {},
   "outputs": [
    {
     "data": {
      "text/plain": [
       "<AxesSubplot:>"
      ]
     },
     "execution_count": 53,
     "metadata": {},
     "output_type": "execute_result"
    },
    {
     "data": {
      "image/png": "[encoded data removed]",
      "text/plain": [
       "<Figure size 1800x720 with 2 Axes>"
      ]
     },
     "metadata": {
      "needs_background": "light"
     },
     "output_type": "display_data"
    }
   ],
   "source": [
    "#Visualising missing values graphically\n",
    "msno.matrix(df)"
   ]
  },
  {
   "attachments": {},
   "cell_type": "markdown",
   "metadata": {},
   "source": [
    "Next we will analyze the unique values ​​per column."
   ]
  },
  {
   "cell_type": "code",
   "execution_count": 54,
   "metadata": {},
   "outputs": [
    {
     "data": {
      "text/plain": [
       "array(['RTB Average Monthly Rent Report'], dtype=object)"
      ]
     },
     "execution_count": 54,
     "metadata": {},
     "output_type": "execute_result"
    }
   ],
   "source": [
    "#Analyzing unique values ​​within the STATISTIC column\n",
    "df['STATISTIC Label'].unique()"
   ]
  },
  {
   "cell_type": "code",
   "execution_count": 55,
   "metadata": {},
   "outputs": [
    {
     "data": {
      "text/plain": [
       "array(['2007Q4', '2008Q1', '2008Q2', '2008Q3', '2008Q4', '2009Q1',\n",
       "       '2009Q2', '2009Q3', '2009Q4', '2010Q1', '2010Q2', '2010Q3',\n",
       "       '2010Q4', '2011Q1', '2011Q2', '2011Q3', '2011Q4', '2012Q1',\n",
       "       '2012Q2', '2012Q3', '2012Q4', '2013Q1', '2013Q2', '2013Q3',\n",
       "       '2013Q4', '2014Q1', '2014Q2', '2014Q3', '2014Q4', '2015Q1',\n",
       "       '2015Q2', '2015Q3', '2015Q4', '2016Q1', '2016Q2', '2016Q3',\n",
       "       '2016Q4', '2017Q1', '2017Q2', '2017Q3', '2017Q4', '2018Q1',\n",
       "       '2018Q2', '2018Q3', '2018Q4', '2019Q1', '2019Q2', '2019Q3',\n",
       "       '2019Q4', '2020Q1', '2020Q2', '2020Q3', '2020Q4', '2021Q1',\n",
       "       '2021Q2', '2021Q3', '2021Q4', '2022Q1', '2022Q2', '2022Q3'],\n",
       "      dtype=object)"
      ]
     },
     "execution_count": 55,
     "metadata": {},
     "output_type": "execute_result"
    }
   ],
   "source": [
    "#Analyzing unique values ​​within the Quarter column\n",
    "df['Quarter'].unique()"
   ]
  },
  {
   "cell_type": "code",
   "execution_count": 56,
   "metadata": {},
   "outputs": [
    {
     "data": {
      "text/plain": [
       "2007Q4    13380\n",
       "2008Q1    13380\n",
       "2015Q4    13380\n",
       "2016Q1    13380\n",
       "2016Q2    13380\n",
       "2016Q3    13380\n",
       "2016Q4    13380\n",
       "2017Q1    13380\n",
       "2017Q2    13380\n",
       "2017Q3    13380\n",
       "2017Q4    13380\n",
       "2018Q1    13380\n",
       "2018Q2    13380\n",
       "2018Q3    13380\n",
       "2018Q4    13380\n",
       "2019Q1    13380\n",
       "2019Q2    13380\n",
       "2019Q3    13380\n",
       "2019Q4    13380\n",
       "2020Q1    13380\n",
       "2020Q2    13380\n",
       "2020Q3    13380\n",
       "2020Q4    13380\n",
       "2021Q1    13380\n",
       "2021Q2    13380\n",
       "2021Q3    13380\n",
       "2021Q4    13380\n",
       "2022Q1    13380\n",
       "2022Q2    13380\n",
       "2015Q3    13380\n",
       "2015Q2    13380\n",
       "2015Q1    13380\n",
       "2011Q2    13380\n",
       "2008Q2    13380\n",
       "2008Q3    13380\n",
       "2008Q4    13380\n",
       "2009Q1    13380\n",
       "2009Q2    13380\n",
       "2009Q3    13380\n",
       "2009Q4    13380\n",
       "2010Q1    13380\n",
       "2010Q2    13380\n",
       "2010Q3    13380\n",
       "2010Q4    13380\n",
       "2011Q1    13380\n",
       "2011Q3    13380\n",
       "2014Q4    13380\n",
       "2011Q4    13380\n",
       "2012Q1    13380\n",
       "2012Q2    13380\n",
       "2012Q3    13380\n",
       "2012Q4    13380\n",
       "2013Q1    13380\n",
       "2013Q2    13380\n",
       "2013Q3    13380\n",
       "2013Q4    13380\n",
       "2014Q1    13380\n",
       "2014Q2    13380\n",
       "2014Q3    13380\n",
       "2022Q3    13380\n",
       "Name: Quarter, dtype: int64"
      ]
     },
     "execution_count": 56,
     "metadata": {},
     "output_type": "execute_result"
    }
   ],
   "source": [
    "#Analysing the total frequency by category\n",
    "df['Quarter'].value_counts()"
   ]
  },
  {
   "cell_type": "code",
   "execution_count": 57,
   "metadata": {},
   "outputs": [
    {
     "data": {
      "text/plain": [
       "array(['All bedrooms', 'One bed', 'Two bed', 'Three bed', 'Four plus bed'],\n",
       "      dtype=object)"
      ]
     },
     "execution_count": 57,
     "metadata": {},
     "output_type": "execute_result"
    }
   ],
   "source": [
    "#Analyzing unique values ​​within the Number of Bedrooms column\n",
    "df['Number of Bedrooms'].unique()"
   ]
  },
  {
   "cell_type": "code",
   "execution_count": 58,
   "metadata": {},
   "outputs": [
    {
     "data": {
      "text/plain": [
       "All bedrooms     160560\n",
       "One bed          160560\n",
       "Two bed          160560\n",
       "Three bed        160560\n",
       "Four plus bed    160560\n",
       "Name: Number of Bedrooms, dtype: int64"
      ]
     },
     "execution_count": 58,
     "metadata": {},
     "output_type": "execute_result"
    }
   ],
   "source": [
    "#Analysing the total frequency by category\n",
    "df['Number of Bedrooms'].value_counts()"
   ]
  },
  {
   "cell_type": "code",
   "execution_count": 59,
   "metadata": {},
   "outputs": [
    {
     "data": {
      "text/plain": [
       "array(['All property types', 'Detached house', 'Semi detached house',\n",
       "       'Terrace house', 'Apartment', 'Other flats'], dtype=object)"
      ]
     },
     "execution_count": 59,
     "metadata": {},
     "output_type": "execute_result"
    }
   ],
   "source": [
    "#Analyzing unique values ​​within the Property Type column\n",
    "df['Property Type'].unique()"
   ]
  },
  {
   "cell_type": "code",
   "execution_count": 60,
   "metadata": {},
   "outputs": [
    {
     "data": {
      "text/plain": [
       "All property types     133800\n",
       "Detached house         133800\n",
       "Semi detached house    133800\n",
       "Terrace house          133800\n",
       "Apartment              133800\n",
       "Other flats            133800\n",
       "Name: Property Type, dtype: int64"
      ]
     },
     "execution_count": 60,
     "metadata": {},
     "output_type": "execute_result"
    }
   ],
   "source": [
    "#Analysing the total frequency by category\n",
    "df['Property Type'].value_counts()"
   ]
  },
  {
   "cell_type": "code",
   "execution_count": 61,
   "metadata": {},
   "outputs": [
    {
     "data": {
      "text/plain": [
       "array(['Carlow', 'Carlow Town', 'Graiguecullen, Carlow', 'Tullow, Carlow',\n",
       "       'Cavan', 'Cavan Town', 'Bailieborough, Cavan',\n",
       "       'Ballyconnell, Cavan', 'Ballyjamesduff, Cavan', 'Belturbet, Cavan',\n",
       "       'Cootehill, Cavan', 'Kingscourt, Cavan', 'Virginia, Cavan',\n",
       "       'Clare', 'Ennis, Clare', 'Killaloe, Clare', 'Kilrush, Clare',\n",
       "       'Newmarket-On-Fergus, Clare', 'Shannon, Clare',\n",
       "       'Sixmilebridge, Clare', 'Cork', 'Cork City', 'Ballincollig, Cork',\n",
       "       'Ballintemple, Cork', 'Ballinure, Cork', 'Bandon, Cork',\n",
       "       'Bantry, Cork', 'Bishopstown, Cork', 'Blackpool, Cork',\n",
       "       'Blackrock, Cork', 'Blarney, Cork', 'Carrigaline, Cork',\n",
       "       'Carrigtwohill, Cork', 'Castlemartyr, Cork', 'Charleville, Cork',\n",
       "       'Clonakilty, Cork', 'Cloyne, Cork', 'Cobh, Cork',\n",
       "       'Crosshaven, Cork', 'Douglas, Cork', 'Dunmanway, Cork',\n",
       "       'Fermoy, Cork', 'Frankfield, Cork', 'Glanmire, Cork',\n",
       "       'Kanturk, Cork', 'Kinsale, Cork', 'Macroom, Cork', 'Mallow, Cork',\n",
       "       'Midleton, Cork', 'Millstreet, Cork', 'Mitchelstown, Cork',\n",
       "       'Montenotte, Cork', 'Passage West, Cork', 'Rathcormac, Cork',\n",
       "       'Ringaskiddy, Cork', 'Rochestown, Cork', 'Skibbereen, Cork',\n",
       "       'Tivoli, Cork', 'Tower, Cork', 'Whitegate, Cork', 'Wilton, Cork',\n",
       "       'Youghal, Cork', 'Donegal', 'Donegal Town', 'Ballybofey, Donegal',\n",
       "       'Buncrana, Donegal', 'Bundoran, Donegal', 'Carndonagh, Donegal',\n",
       "       'Letterkenny, Donegal', 'Lifford, Donegal', 'Stranorlar, Donegal',\n",
       "       'Dublin', 'Balbriggan, Dublin', 'Blackrock, Dublin',\n",
       "       'Booterstown, Dublin', 'Cabinteely, Dublin', 'Citywest, Dublin',\n",
       "       'Dalkey, Dublin', 'Donabate, Dublin', 'Dun Laoghaire, Dublin',\n",
       "       'Glenageary, Dublin', 'Howth, Dublin', 'Killiney, Dublin',\n",
       "       'Kinsealy, Dublin', 'Lucan, Dublin', 'Lusk, Dublin',\n",
       "       'Malahide, Dublin', 'Monkstown, Dublin', 'Mount Merrion, Dublin',\n",
       "       'Portmarnock, Dublin', 'Rathcoole, Dublin', 'Rush, Dublin',\n",
       "       'Saggart, Dublin', 'Sandycove, Dublin', 'Shankill, Dublin',\n",
       "       'Skerries, Dublin', 'Stepaside, Dublin', 'Stillorgan, Dublin',\n",
       "       'Swords, Dublin', 'Dublin 1', 'I.F.S.C., Dublin 1',\n",
       "       'Parnell Street, Dublin 1', 'Spencer Dock, Dublin 1',\n",
       "       'Summerhill, Dublin 1', 'Dublin 2', 'Aungier Street, Dublin 2',\n",
       "       'Charlemont Street, Dublin 2', 'Grand Canal Dock, Dublin 2',\n",
       "       'Grand Canal Square, Dublin 2', 'Hanover Quay, Dublin 2',\n",
       "       'Lower Mount Street, Dublin 2', 'Pearse Street, Dublin 2',\n",
       "       'Tara Street, Dublin 2', 'Temple Bar, Dublin 2',\n",
       "       'Townsend Street, Dublin 2', 'Dublin 3', 'Clonliffe, Dublin 3',\n",
       "       'Clontarf, Dublin 3', 'Drumcondra, Dublin 3',\n",
       "       'East Wall, Dublin 3', 'Eastwall, Dublin 3', 'Fairview, Dublin 3',\n",
       "       'Marino, Dublin 3', 'North Strand, Dublin 3', 'Dublin 4',\n",
       "       'Ballsbridge, Dublin 4', 'Donnybrook, Dublin 4',\n",
       "       'Irishtown, Dublin 4', 'Merrion, Dublin 4', 'Pembroke, Dublin 4',\n",
       "       'Ringsend, Dublin 4', 'Sandymount, Dublin 4', 'Dublin 5',\n",
       "       'Artane, Dublin 5', 'Killester, Dublin 5', 'Raheny, Dublin 5',\n",
       "       'Dublin 6', 'Dartry, Dublin 6', 'Harolds Cross, Dublin 6',\n",
       "       'Milltown, Dublin 6', 'Ranelagh, Dublin 6', 'Rathgar, Dublin 6',\n",
       "       'Rathmines, Dublin 6', 'Terenure, Dublin 6', 'Dublin 6W',\n",
       "       'Harolds Cross, Dublin 6W', 'Templeogue, Dublin 6W',\n",
       "       'Terenure, Dublin 6W', 'Dublin 7', 'Arbour Hill, Dublin 7',\n",
       "       'Cabra, Dublin 7', 'Navan Road, Dublin 7',\n",
       "       'North Circular Road, Dublin 7', 'Phibsboro, Dublin 7',\n",
       "       'Smithfield, Dublin 7', 'Stoneybatter, Dublin 7', 'Dublin 8',\n",
       "       'Christchurch, Dublin 8', 'Cork Street, Dublin 8',\n",
       "       'Dolphins Barn, Dublin 8', 'Inchicore, Dublin 8',\n",
       "       'Islandbridge, Dublin 8', 'Kilmainham , Dublin 8',\n",
       "       'Portobello, Dublin 8', 'Rialto, Dublin 8',\n",
       "       'South Circular Road, Dublin 8', 'The Coombe, Dublin 8',\n",
       "       'Dublin 9', 'Ballymun, Dublin 9', 'Beaumont, Dublin 9',\n",
       "       'Drumcondra, Dublin 9', 'Glasnevin, Dublin 9', 'Santry, Dublin 9',\n",
       "       'Whitehall, Dublin 9', 'Dublin 10', 'Ballyfermot, Dublin 10',\n",
       "       'Cherry Orchard, Dublin 10', 'Dublin 11', 'Ballymun, Dublin 11',\n",
       "       'Finglas, Dublin 11', 'Glasnevin, Dublin 11',\n",
       "       'Meakstown, Dublin 11', 'St Margarets Road, Dublin 11',\n",
       "       'Dublin 12', 'Crumlin, Dublin 12', 'Drimnagh, Dublin 12',\n",
       "       'Kimmage, Dublin 12', 'Walkinstown, Dublin 12', 'Dublin 13',\n",
       "       'Baldoyle, Dublin 13', 'Balgriffin, Dublin 13',\n",
       "       'Clongriffin, Dublin 13', 'Donaghmede, Dublin 13',\n",
       "       'Sutton, Dublin 13', 'Dublin 14', 'Churchtown, Dublin 14',\n",
       "       'Clonskeagh, Dublin 14', 'Dundrum, Dublin 14',\n",
       "       'Goatstown, Dublin 14', 'Rathfarnham, Dublin 14', 'Dublin 15',\n",
       "       'Ashtown, Dublin 15', 'Blanchardstown, Dublin 15',\n",
       "       'Carpenterstown, Dublin 15', 'Castleknock, Dublin 15',\n",
       "       'Clonee, Dublin 15', 'Clonsilla, Dublin 15', 'Coolmine, Dublin 15',\n",
       "       'Mulhuddart, Dublin 15', 'Ongar, Dublin 15',\n",
       "       'Porterstown, Dublin 15', 'Royal Canal Park, Dublin 15',\n",
       "       'Tyrrelstown, Dublin 15', 'Dublin 16', 'Ballinteer, Dublin 16',\n",
       "       'Dundrum, Dublin 16', 'Knocklyon, Dublin 16',\n",
       "       'Rathfarnham, Dublin 16', 'Sandyford, Dublin 16', 'Dublin 17',\n",
       "       'Malahide Road, Dublin 17', 'Northern Cross, Dublin 17',\n",
       "       'Dublin 18', 'Cabinteely, Dublin 18', 'Carrickmines, Dublin 18',\n",
       "       'Foxrock, Dublin 18', 'Leopardstown, Dublin 18',\n",
       "       'Sandyford, Dublin 18', 'Stepaside, Dublin 18', 'Dublin 20',\n",
       "       'Chapelizod, Dublin 20', 'Palmerstown, Dublin 20',\n",
       "       'Clondalkin, Dublin 22', 'Dublin 24', 'Ballycullen, Dublin 24',\n",
       "       'Citywest, Dublin 24', 'Firhouse, Dublin 24',\n",
       "       'Tallaght, Dublin 24', 'Galway', 'Galway City', 'Athenry, Galway',\n",
       "       'Ballinasloe, Galway', 'Ballybane, Galway', 'Ballybrit, Galway',\n",
       "       'Barna, Galway', 'Bohermore, Galway', 'Claregalway, Galway',\n",
       "       'Clifden, Galway', 'Doughiska, Galway', 'Gort, Galway',\n",
       "       'Headford, Galway', 'Knocknacarra, Galway', 'Loughrea, Galway',\n",
       "       'Mervue, Galway', 'Monivea, Galway', 'Moycullen, Galway',\n",
       "       'Newcastle, Galway', 'Oranmore, Galway', 'Oughterard, Galway',\n",
       "       'Portumna, Galway', 'Rahoon, Galway', 'Renmore, Galway',\n",
       "       'Roscam, Galway', 'Salthill, Galway', 'Tuam, Galway',\n",
       "       'Wellpark, Galway', 'Woodquay, Galway', 'Kerry',\n",
       "       'Castleisland, Kerry', 'Dingle, Kerry', 'Kenmare, Kerry',\n",
       "       'Killarney, Kerry', 'Killorglin, Kerry', 'Listowel, Kerry',\n",
       "       'Tralee, Kerry', 'Kildare', 'Kildare Town', 'Athy, Kildare',\n",
       "       'Castledermot, Kildare', 'Celbridge, Kildare', 'Clane, Kildare',\n",
       "       'Kilcock, Kildare', 'Kilcullen, Kildare', 'Kill, Kildare',\n",
       "       'Leixlip, Kildare', 'Maynooth, Kildare', 'Monasterevin, Kildare',\n",
       "       'Naas, Kildare', 'Newbridge, Kildare', 'Rathangan, Kildare',\n",
       "       'Sallins, Kildare', 'Kilkenny', 'Kilkenny City',\n",
       "       'Callan, Kilkenny', 'Castlecomer, Kilkenny', 'Freshford, Kilkenny',\n",
       "       'Kells, Kilkenny', 'Thomastown, Kilkenny', 'Laois',\n",
       "       'Mountmellick, Laois', 'Mountrath, Laois', 'Portarlington, Laois',\n",
       "       'Portlaoise, Laois', 'Leitrim', 'Carrick-On-Shannon, Leitrim',\n",
       "       'Manorhamilton, Leitrim', 'Limerick', 'Limerick City',\n",
       "       'Abbeyfeale, Limerick', 'Annacotty, Limerick',\n",
       "       'Castleconnell, Limerick', 'Castletroy, Limerick',\n",
       "       'Corbally, Limerick', 'Dock Road, Limerick',\n",
       "       'Dooradoyle, Limerick', 'Glen, Limerick', 'Kilmallock, Limerick',\n",
       "       'Newcastle West, Limerick', 'Old Cratloe Road, Limerick',\n",
       "       'Raheen, Limerick', 'Longford', 'Longford Town',\n",
       "       'Ballymahon, Longford', 'Edgeworthstown, Longford',\n",
       "       'Newtownforbes, Longford', 'Louth', 'Ardee, Louth',\n",
       "       'Drogheda, Louth', 'Dundalk, Louth', 'Louth Town', 'Mayo',\n",
       "       'Ballina, Mayo', 'Ballinrobe, Mayo', 'Ballyhaunis, Mayo',\n",
       "       'Belmullet, Mayo', 'Castlebar, Mayo', 'Charlestown, Mayo',\n",
       "       'Claremorris, Mayo', 'Foxford, Mayo', 'Swinford, Mayo',\n",
       "       'Westport, Mayo', 'Meath', 'Ashbourne, Meath', 'Athboy, Meath',\n",
       "       'Bettystown, Meath', 'Clonee, Meath', 'Drogheda, Meath',\n",
       "       'Duleek, Meath', 'Dunboyne, Meath', 'Dunshaughlin, Meath',\n",
       "       'Enfield, Meath', 'Kells, Meath', 'Laytown, Meath', 'Navan, Meath',\n",
       "       'Ratoath, Meath', 'Stamullen, Meath', 'Trim, Meath', 'Monaghan',\n",
       "       'Ballybay, Monaghan', 'Carrickmacross, Monaghan',\n",
       "       'Castleblayney, Monaghan', 'Monaghan Town', 'Offaly',\n",
       "       'Banagher, Offaly', 'Birr, Offaly', 'Clara, Offaly',\n",
       "       'Edenderry, Offaly', 'Tullamore, Offaly', 'Roscommon',\n",
       "       'Roscommon Town', 'Athlone, Roscommon',\n",
       "       'Ballaghaderreen, Roscommon', 'Boyle, Roscommon',\n",
       "       'Castlerea, Roscommon', 'Strokestown, Roscommon', 'Sligo',\n",
       "       'Sligo Town', 'Ballinode, Sligo', 'Ballisodare, Sligo',\n",
       "       'Ballymote, Sligo', 'Ballytivnan, Sligo', 'Collooney, Sligo',\n",
       "       'Lough Gill, Sligo', 'Strandhill, Sligo', 'Tubbercurry, Sligo',\n",
       "       'Tipperary', 'Tipperary Town', 'Ballina, Tipperary',\n",
       "       'Cahir, Tipperary', 'Carrick-On-Suir, Tipperary',\n",
       "       'Cashel, Tipperary', 'Clonmel, Tipperary', 'Fethard, Tipperary',\n",
       "       'Nenagh, Tipperary', 'Roscrea, Tipperary', 'Templemore, Tipperary',\n",
       "       'Thurles, Tipperary', 'Waterford', 'Waterford City',\n",
       "       'Ballytruckle, Waterford', 'Canada Street, Waterford',\n",
       "       'Castle Place, Waterford', 'Cork Road, Waterford',\n",
       "       'Dungarvan, Waterford', 'Dunmore East, Waterford',\n",
       "       'Dunmore Road, Waterford', 'Ferrybank, Waterford',\n",
       "       'Inner Ring Road, Waterford', 'Johns Hill, Waterford',\n",
       "       'Lismore, Waterford', 'Mary Street, Waterford',\n",
       "       'Penrose Lane, Waterford', 'Poleberry, Waterford',\n",
       "       'Portlaw, Waterford', 'Railway Square, Waterford',\n",
       "       'Scotch Quay, Waterford', 'Templars Hall, Waterford',\n",
       "       'Tramore, Waterford', 'Westmeath', 'Athlone, Westmeath',\n",
       "       'Castlepollard, Westmeath', 'Kilbeggan, Westmeath',\n",
       "       'Kinnegad, Westmeath', 'Moate, Westmeath', 'Mullingar, Westmeath',\n",
       "       'Wexford', 'Bunclody, Wexford', 'Clonard, Wexford',\n",
       "       'Enniscorthy, Wexford', 'Ferns, Wexford', 'Ford, Wexford',\n",
       "       'Gorey, Wexford', 'Mulgannon, Wexford', 'New Ross, Wexford',\n",
       "       'Rosslare, Wexford', 'Wicklow', 'Wicklow Town', 'Arklow, Wicklow',\n",
       "       'Baltinglass, Wicklow', 'Blessington, Wicklow', 'Bray, Wicklow',\n",
       "       'Delgany, Wicklow', 'Greystones, Wicklow', 'Kilcoole, Wicklow',\n",
       "       'Newtownmountkennedy, Wicklow', 'Rathnew, Wicklow'], dtype=object)"
      ]
     },
     "execution_count": 61,
     "metadata": {},
     "output_type": "execute_result"
    }
   ],
   "source": [
    "#Analyzing unique values ​​within the Location column\n",
    "df['Location'].unique()"
   ]
  },
  {
   "cell_type": "code",
   "execution_count": 62,
   "metadata": {},
   "outputs": [
    {
     "data": {
      "text/plain": [
       "Carlow                         1800\n",
       "Callan, Kilkenny               1800\n",
       "Carrick-On-Shannon, Leitrim    1800\n",
       "Leitrim                        1800\n",
       "Portlaoise, Laois              1800\n",
       "                               ... \n",
       "Harolds Cross, Dublin 6W       1800\n",
       "Dublin 6W                      1800\n",
       "Terenure, Dublin 6             1800\n",
       "Rathmines, Dublin 6            1800\n",
       "Rathnew, Wicklow               1800\n",
       "Name: Location, Length: 446, dtype: int64"
      ]
     },
     "execution_count": 62,
     "metadata": {},
     "output_type": "execute_result"
    }
   ],
   "source": [
    "#Analysing the total frequency by category\n",
    "df['Location'].value_counts()"
   ]
  },
  {
   "cell_type": "code",
   "execution_count": 63,
   "metadata": {},
   "outputs": [
    {
     "data": {
      "text/plain": [
       "array(['Euro'], dtype=object)"
      ]
     },
     "execution_count": 63,
     "metadata": {},
     "output_type": "execute_result"
    }
   ],
   "source": [
    "#Analyzing unique values ​​within the UNIT column\n",
    "df['UNIT'].unique()"
   ]
  },
  {
   "cell_type": "code",
   "execution_count": 64,
   "metadata": {},
   "outputs": [
    {
     "data": {
      "text/plain": [
       "Euro    802800\n",
       "Name: UNIT, dtype: int64"
      ]
     },
     "execution_count": 64,
     "metadata": {},
     "output_type": "execute_result"
    }
   ],
   "source": [
    "#Analysing the total frequency by category\n",
    "df['UNIT'].value_counts()"
   ]
  },
  {
   "attachments": {},
   "cell_type": "markdown",
   "metadata": {},
   "source": [
    "**DATA PREPARATION**"
   ]
  },
  {
   "attachments": {},
   "cell_type": "markdown",
   "metadata": {},
   "source": [
    "Since a high percentage of missing values have been presented and to have a better management of our database, we will proceed to eliminate those rows with missing data."
   ]
  },
  {
   "cell_type": "code",
   "execution_count": 65,
   "metadata": {},
   "outputs": [],
   "source": [
    "# Dropping rows with missing values\n",
    "df2 = df.dropna()"
   ]
  },
  {
   "cell_type": "code",
   "execution_count": 66,
   "metadata": {},
   "outputs": [
    {
     "data": {
      "text/plain": [
       "(204771, 7)"
      ]
     },
     "execution_count": 66,
     "metadata": {},
     "output_type": "execute_result"
    }
   ],
   "source": [
    "#Checking the size\n",
    "df2.shape"
   ]
  },
  {
   "cell_type": "code",
   "execution_count": 67,
   "metadata": {},
   "outputs": [
    {
     "name": "stderr",
     "output_type": "stream",
     "text": [
      "c:\\ProgramData\\Anaconda3\\lib\\site-packages\\pandas\\core\\frame.py:4906: SettingWithCopyWarning: \n",
      "A value is trying to be set on a copy of a slice from a DataFrame\n",
      "\n",
      "See the caveats in the documentation: https://pandas.pydata.org/pandas-docs/stable/user_guide/indexing.html#returning-a-view-versus-a-copy\n",
      "  return super().drop(\n"
     ]
    }
   ],
   "source": [
    "#Dropping unnecesary columns\n",
    "df2.drop(['STATISTIC Label','UNIT'], axis=1, inplace=True)\n"
   ]
  },
  {
   "cell_type": "code",
   "execution_count": 68,
   "metadata": {},
   "outputs": [
    {
     "data": {
      "text/html": [
       "<div>\n",
       "<style scoped>\n",
       "    .dataframe tbody tr th:only-of-type {\n",
       "        vertical-align: middle;\n",
       "    }\n",
       "\n",
       "    .dataframe tbody tr th {\n",
       "        vertical-align: top;\n",
       "    }\n",
       "\n",
       "    .dataframe thead th {\n",
       "        text-align: right;\n",
       "    }\n",
       "</style>\n",
       "<table border=\"1\" class=\"dataframe\">\n",
       "  <thead>\n",
       "    <tr style=\"text-align: right;\">\n",
       "      <th></th>\n",
       "      <th>Quarter</th>\n",
       "      <th>Number of Bedrooms</th>\n",
       "      <th>Property Type</th>\n",
       "      <th>Location</th>\n",
       "      <th>VALUE</th>\n",
       "    </tr>\n",
       "  </thead>\n",
       "  <tbody>\n",
       "    <tr>\n",
       "      <th>0</th>\n",
       "      <td>2007Q4</td>\n",
       "      <td>All bedrooms</td>\n",
       "      <td>All property types</td>\n",
       "      <td>Carlow</td>\n",
       "      <td>805.30</td>\n",
       "    </tr>\n",
       "    <tr>\n",
       "      <th>3</th>\n",
       "      <td>2007Q4</td>\n",
       "      <td>All bedrooms</td>\n",
       "      <td>All property types</td>\n",
       "      <td>Tullow, Carlow</td>\n",
       "      <td>724.37</td>\n",
       "    </tr>\n",
       "    <tr>\n",
       "      <th>4</th>\n",
       "      <td>2007Q4</td>\n",
       "      <td>All bedrooms</td>\n",
       "      <td>All property types</td>\n",
       "      <td>Cavan</td>\n",
       "      <td>587.92</td>\n",
       "    </tr>\n",
       "    <tr>\n",
       "      <th>10</th>\n",
       "      <td>2007Q4</td>\n",
       "      <td>All bedrooms</td>\n",
       "      <td>All property types</td>\n",
       "      <td>Cootehill, Cavan</td>\n",
       "      <td>572.56</td>\n",
       "    </tr>\n",
       "    <tr>\n",
       "      <th>13</th>\n",
       "      <td>2007Q4</td>\n",
       "      <td>All bedrooms</td>\n",
       "      <td>All property types</td>\n",
       "      <td>Clare</td>\n",
       "      <td>715.90</td>\n",
       "    </tr>\n",
       "    <tr>\n",
       "      <th>14</th>\n",
       "      <td>2007Q4</td>\n",
       "      <td>All bedrooms</td>\n",
       "      <td>All property types</td>\n",
       "      <td>Ennis, Clare</td>\n",
       "      <td>699.39</td>\n",
       "    </tr>\n",
       "    <tr>\n",
       "      <th>18</th>\n",
       "      <td>2007Q4</td>\n",
       "      <td>All bedrooms</td>\n",
       "      <td>All property types</td>\n",
       "      <td>Shannon, Clare</td>\n",
       "      <td>760.81</td>\n",
       "    </tr>\n",
       "    <tr>\n",
       "      <th>20</th>\n",
       "      <td>2007Q4</td>\n",
       "      <td>All bedrooms</td>\n",
       "      <td>All property types</td>\n",
       "      <td>Cork</td>\n",
       "      <td>956.63</td>\n",
       "    </tr>\n",
       "    <tr>\n",
       "      <th>21</th>\n",
       "      <td>2007Q4</td>\n",
       "      <td>All bedrooms</td>\n",
       "      <td>All property types</td>\n",
       "      <td>Cork City</td>\n",
       "      <td>1046.73</td>\n",
       "    </tr>\n",
       "    <tr>\n",
       "      <th>22</th>\n",
       "      <td>2007Q4</td>\n",
       "      <td>All bedrooms</td>\n",
       "      <td>All property types</td>\n",
       "      <td>Ballincollig, Cork</td>\n",
       "      <td>1043.01</td>\n",
       "    </tr>\n",
       "  </tbody>\n",
       "</table>\n",
       "</div>"
      ],
      "text/plain": [
       "   Quarter Number of Bedrooms       Property Type            Location    VALUE\n",
       "0   2007Q4       All bedrooms  All property types              Carlow   805.30\n",
       "3   2007Q4       All bedrooms  All property types      Tullow, Carlow   724.37\n",
       "4   2007Q4       All bedrooms  All property types               Cavan   587.92\n",
       "10  2007Q4       All bedrooms  All property types    Cootehill, Cavan   572.56\n",
       "13  2007Q4       All bedrooms  All property types               Clare   715.90\n",
       "14  2007Q4       All bedrooms  All property types        Ennis, Clare   699.39\n",
       "18  2007Q4       All bedrooms  All property types      Shannon, Clare   760.81\n",
       "20  2007Q4       All bedrooms  All property types                Cork   956.63\n",
       "21  2007Q4       All bedrooms  All property types           Cork City  1046.73\n",
       "22  2007Q4       All bedrooms  All property types  Ballincollig, Cork  1043.01"
      ]
     },
     "execution_count": 68,
     "metadata": {},
     "output_type": "execute_result"
    }
   ],
   "source": [
    "df2.head(10)"
   ]
  },
  {
   "cell_type": "code",
   "execution_count": 71,
   "metadata": {},
   "outputs": [
    {
     "name": "stderr",
     "output_type": "stream",
     "text": [
      "C:\\Users\\Fabiola\\AppData\\Local\\Temp/ipykernel_24788/3577300986.py:2: SettingWithCopyWarning: \n",
      "A value is trying to be set on a copy of a slice from a DataFrame.\n",
      "Try using .loc[row_indexer,col_indexer] = value instead\n",
      "\n",
      "See the caveats in the documentation: https://pandas.pydata.org/pandas-docs/stable/user_guide/indexing.html#returning-a-view-versus-a-copy\n",
      "  df2['Quarter'] = pd.to_datetime(df2['Quarter'])\n"
     ]
    }
   ],
   "source": [
    "# Convert the date column to datetime\n",
    "df2['Quarter'] = pd.to_datetime(df2['Quarter'])"
   ]
  },
  {
   "cell_type": "code",
   "execution_count": 72,
   "metadata": {},
   "outputs": [
    {
     "data": {
      "text/html": [
       "<div>\n",
       "<style scoped>\n",
       "    .dataframe tbody tr th:only-of-type {\n",
       "        vertical-align: middle;\n",
       "    }\n",
       "\n",
       "    .dataframe tbody tr th {\n",
       "        vertical-align: top;\n",
       "    }\n",
       "\n",
       "    .dataframe thead th {\n",
       "        text-align: right;\n",
       "    }\n",
       "</style>\n",
       "<table border=\"1\" class=\"dataframe\">\n",
       "  <thead>\n",
       "    <tr style=\"text-align: right;\">\n",
       "      <th></th>\n",
       "      <th>Quarter</th>\n",
       "      <th>Number of Bedrooms</th>\n",
       "      <th>Property Type</th>\n",
       "      <th>Location</th>\n",
       "      <th>VALUE</th>\n",
       "    </tr>\n",
       "  </thead>\n",
       "  <tbody>\n",
       "    <tr>\n",
       "      <th>0</th>\n",
       "      <td>2007-10-01</td>\n",
       "      <td>All bedrooms</td>\n",
       "      <td>All property types</td>\n",
       "      <td>Carlow</td>\n",
       "      <td>805.30</td>\n",
       "    </tr>\n",
       "    <tr>\n",
       "      <th>3</th>\n",
       "      <td>2007-10-01</td>\n",
       "      <td>All bedrooms</td>\n",
       "      <td>All property types</td>\n",
       "      <td>Tullow, Carlow</td>\n",
       "      <td>724.37</td>\n",
       "    </tr>\n",
       "    <tr>\n",
       "      <th>4</th>\n",
       "      <td>2007-10-01</td>\n",
       "      <td>All bedrooms</td>\n",
       "      <td>All property types</td>\n",
       "      <td>Cavan</td>\n",
       "      <td>587.92</td>\n",
       "    </tr>\n",
       "    <tr>\n",
       "      <th>10</th>\n",
       "      <td>2007-10-01</td>\n",
       "      <td>All bedrooms</td>\n",
       "      <td>All property types</td>\n",
       "      <td>Cootehill, Cavan</td>\n",
       "      <td>572.56</td>\n",
       "    </tr>\n",
       "    <tr>\n",
       "      <th>13</th>\n",
       "      <td>2007-10-01</td>\n",
       "      <td>All bedrooms</td>\n",
       "      <td>All property types</td>\n",
       "      <td>Clare</td>\n",
       "      <td>715.90</td>\n",
       "    </tr>\n",
       "    <tr>\n",
       "      <th>...</th>\n",
       "      <td>...</td>\n",
       "      <td>...</td>\n",
       "      <td>...</td>\n",
       "      <td>...</td>\n",
       "      <td>...</td>\n",
       "    </tr>\n",
       "    <tr>\n",
       "      <th>801929</th>\n",
       "      <td>2022-07-01</td>\n",
       "      <td>Four plus bed</td>\n",
       "      <td>Apartment</td>\n",
       "      <td>Cork City</td>\n",
       "      <td>1798.44</td>\n",
       "    </tr>\n",
       "    <tr>\n",
       "      <th>801979</th>\n",
       "      <td>2022-07-01</td>\n",
       "      <td>Four plus bed</td>\n",
       "      <td>Apartment</td>\n",
       "      <td>Dublin</td>\n",
       "      <td>2684.59</td>\n",
       "    </tr>\n",
       "    <tr>\n",
       "      <th>802146</th>\n",
       "      <td>2022-07-01</td>\n",
       "      <td>Four plus bed</td>\n",
       "      <td>Apartment</td>\n",
       "      <td>Galway</td>\n",
       "      <td>1640.42</td>\n",
       "    </tr>\n",
       "    <tr>\n",
       "      <th>802147</th>\n",
       "      <td>2022-07-01</td>\n",
       "      <td>Four plus bed</td>\n",
       "      <td>Apartment</td>\n",
       "      <td>Galway City</td>\n",
       "      <td>1799.70</td>\n",
       "    </tr>\n",
       "    <tr>\n",
       "      <th>802175</th>\n",
       "      <td>2022-07-01</td>\n",
       "      <td>Four plus bed</td>\n",
       "      <td>Apartment</td>\n",
       "      <td>Kerry</td>\n",
       "      <td>1044.02</td>\n",
       "    </tr>\n",
       "  </tbody>\n",
       "</table>\n",
       "<p>204771 rows × 5 columns</p>\n",
       "</div>"
      ],
      "text/plain": [
       "          Quarter Number of Bedrooms       Property Type          Location  \\\n",
       "0      2007-10-01       All bedrooms  All property types            Carlow   \n",
       "3      2007-10-01       All bedrooms  All property types    Tullow, Carlow   \n",
       "4      2007-10-01       All bedrooms  All property types             Cavan   \n",
       "10     2007-10-01       All bedrooms  All property types  Cootehill, Cavan   \n",
       "13     2007-10-01       All bedrooms  All property types             Clare   \n",
       "...           ...                ...                 ...               ...   \n",
       "801929 2022-07-01      Four plus bed           Apartment         Cork City   \n",
       "801979 2022-07-01      Four plus bed           Apartment            Dublin   \n",
       "802146 2022-07-01      Four plus bed           Apartment            Galway   \n",
       "802147 2022-07-01      Four plus bed           Apartment       Galway City   \n",
       "802175 2022-07-01      Four plus bed           Apartment             Kerry   \n",
       "\n",
       "          VALUE  \n",
       "0        805.30  \n",
       "3        724.37  \n",
       "4        587.92  \n",
       "10       572.56  \n",
       "13       715.90  \n",
       "...         ...  \n",
       "801929  1798.44  \n",
       "801979  2684.59  \n",
       "802146  1640.42  \n",
       "802147  1799.70  \n",
       "802175  1044.02  \n",
       "\n",
       "[204771 rows x 5 columns]"
      ]
     },
     "execution_count": 72,
     "metadata": {},
     "output_type": "execute_result"
    }
   ],
   "source": [
    "df2"
   ]
  },
  {
   "cell_type": "code",
   "execution_count": 73,
   "metadata": {},
   "outputs": [
    {
     "name": "stderr",
     "output_type": "stream",
     "text": [
      "C:\\Users\\Fabiola\\AppData\\Local\\Temp/ipykernel_24788/1955809298.py:2: SettingWithCopyWarning: \n",
      "A value is trying to be set on a copy of a slice from a DataFrame.\n",
      "Try using .loc[row_indexer,col_indexer] = value instead\n",
      "\n",
      "See the caveats in the documentation: https://pandas.pydata.org/pandas-docs/stable/user_guide/indexing.html#returning-a-view-versus-a-copy\n",
      "  df2['Day']=df2['Quarter'].dt.day\n",
      "C:\\Users\\Fabiola\\AppData\\Local\\Temp/ipykernel_24788/1955809298.py:4: SettingWithCopyWarning: \n",
      "A value is trying to be set on a copy of a slice from a DataFrame.\n",
      "Try using .loc[row_indexer,col_indexer] = value instead\n",
      "\n",
      "See the caveats in the documentation: https://pandas.pydata.org/pandas-docs/stable/user_guide/indexing.html#returning-a-view-versus-a-copy\n",
      "  df2[\"Month\"]=df2.Quarter.dt.month_name().str[:3]\n",
      "C:\\Users\\Fabiola\\AppData\\Local\\Temp/ipykernel_24788/1955809298.py:6: SettingWithCopyWarning: \n",
      "A value is trying to be set on a copy of a slice from a DataFrame.\n",
      "Try using .loc[row_indexer,col_indexer] = value instead\n",
      "\n",
      "See the caveats in the documentation: https://pandas.pydata.org/pandas-docs/stable/user_guide/indexing.html#returning-a-view-versus-a-copy\n",
      "  df2['Year']=df2['Quarter'].dt.year\n"
     ]
    }
   ],
   "source": [
    "#Breaking Down the Date into 3 Components\n",
    "df2['Day']=df2['Quarter'].dt.day\n",
    "\n",
    "df2[\"Month\"]=df2.Quarter.dt.month_name().str[:3]\n",
    "\n",
    "df2['Year']=df2['Quarter'].dt.year"
   ]
  },
  {
   "cell_type": "code",
   "execution_count": 74,
   "metadata": {},
   "outputs": [
    {
     "name": "stderr",
     "output_type": "stream",
     "text": [
      "C:\\Users\\Fabiola\\AppData\\Local\\Temp/ipykernel_24788/4257607487.py:2: SettingWithCopyWarning: \n",
      "A value is trying to be set on a copy of a slice from a DataFrame.\n",
      "Try using .loc[row_indexer,col_indexer] = value instead\n",
      "\n",
      "See the caveats in the documentation: https://pandas.pydata.org/pandas-docs/stable/user_guide/indexing.html#returning-a-view-versus-a-copy\n",
      "  df2['Day of the week'] = df2.Quarter.dt.dayofweek\n",
      "C:\\Users\\Fabiola\\AppData\\Local\\Temp/ipykernel_24788/4257607487.py:3: SettingWithCopyWarning: \n",
      "A value is trying to be set on a copy of a slice from a DataFrame.\n",
      "Try using .loc[row_indexer,col_indexer] = value instead\n",
      "\n",
      "See the caveats in the documentation: https://pandas.pydata.org/pandas-docs/stable/user_guide/indexing.html#returning-a-view-versus-a-copy\n",
      "  df2['Day of the week'] = df2['Day of the week'].map({0: \"Monday\",1: \"Tuesday\",2: \"Wednesday\" ,3: \"Thursday\",4:\"Friday\",5:\"Saturday\",6:\"Sunday\"}) #Renaming the days of the week\n",
      "C:\\Users\\Fabiola\\AppData\\Local\\Temp/ipykernel_24788/4257607487.py:4: SettingWithCopyWarning: \n",
      "A value is trying to be set on a copy of a slice from a DataFrame.\n",
      "Try using .loc[row_indexer,col_indexer] = value instead\n",
      "\n",
      "See the caveats in the documentation: https://pandas.pydata.org/pandas-docs/stable/user_guide/indexing.html#returning-a-view-versus-a-copy\n",
      "  df2['Day of the week'] = pd.Categorical(df2['Day of the week'], categories=\n"
     ]
    }
   ],
   "source": [
    "#Creating new columns for the new components...\n",
    "df2['Day of the week'] = df2.Quarter.dt.dayofweek\n",
    "df2['Day of the week'] = df2['Day of the week'].map({0: \"Monday\",1: \"Tuesday\",2: \"Wednesday\" ,3: \"Thursday\",4:\"Friday\",5:\"Saturday\",6:\"Sunday\"}) #Renaming the days of the week\n",
    "df2['Day of the week'] = pd.Categorical(df2['Day of the week'], categories=\n",
    "    ['Monday','Tuesday','Wednesday','Thursday','Friday','Saturday', 'Sunday'],\n",
    "    ordered=True)"
   ]
  },
  {
   "cell_type": "code",
   "execution_count": 80,
   "metadata": {},
   "outputs": [
    {
     "data": {
      "image/png": "[encoded data removed]",
      "text/plain": [
       "<Figure size 2160x720 with 1 Axes>"
      ]
     },
     "metadata": {
      "needs_background": "light"
     },
     "output_type": "display_data"
    }
   ],
   "source": [
    "#Bar graph of average rent, from 2007 to 2022.\n",
    "f, ax = plt.subplots(1, 1, figsize=(30, 10))\n",
    "ax =sns.barplot(x='Number of Bedrooms', y='VALUE', hue='Property Type', data=df2, palette='tab20')\n",
    "\n",
    "plt.title('Average Rents By Number Of Rooms According To The Type Of Housing [2007-2022]', fontsize =20)\n",
    "plt.ylabel(\"Average Prices\", fontsize =15)\n",
    "plt.xlabel('Number of Bedrooms', fontsize =15)\n",
    "\n",
    "\n",
    "plt.legend(title = \"Type Of Housing:\", loc='upper left', fontsize=10)\n",
    "\n",
    "plt.savefig('barplot2.png', dpi=300, bbox_inches='tight');"
   ]
  },
  {
   "cell_type": "code",
   "execution_count": null,
   "metadata": {},
   "outputs": [],
   "source": []
  },
  {
   "cell_type": "code",
   "execution_count": null,
   "metadata": {},
   "outputs": [],
   "source": []
  },
  {
   "cell_type": "code",
   "execution_count": null,
   "metadata": {},
   "outputs": [],
   "source": []
  }
 ],
 "metadata": {
  "kernelspec": {
   "display_name": "base",
   "language": "python",
   "name": "python3"
  },
  "language_info": {
   "codemirror_mode": {
    "name": "ipython",
    "version": 3
   },
   "file_extension": ".py",
   "mimetype": "text/x-python",
   "name": "python",
   "nbconvert_exporter": "python",
   "pygments_lexer": "ipython3",
   "version": "3.9.7"
  },
  "orig_nbformat": 4,
  "vscode": {
   "interpreter": {
    "hash": "ad2bdc8ecc057115af97d19610ffacc2b4e99fae6737bb82f5d7fb13d2f2c186"
   }
  }
 },
 "nbformat": 4,
 "nbformat_minor": 2
}
